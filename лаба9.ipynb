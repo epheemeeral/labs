{
  "nbformat": 4,
  "nbformat_minor": 0,
  "metadata": {
    "colab": {
      "provenance": [],
      "authorship_tag": "ABX9TyMiJUrlyKXFwTMovNIzztxB",
      "include_colab_link": true
    },
    "kernelspec": {
      "name": "python3",
      "display_name": "Python 3"
    },
    "language_info": {
      "name": "python"
    }
  },
  "cells": [
    {
      "cell_type": "markdown",
      "metadata": {
        "id": "view-in-github",
        "colab_type": "text"
      },
      "source": [
        "<a href=\"https://colab.research.google.com/github/epheemeeral/labs/blob/main/%D0%BB%D0%B0%D0%B1%D0%B09.ipynb\" target=\"_parent\"><img src=\"https://colab.research.google.com/assets/colab-badge.svg\" alt=\"Open In Colab\"/></a>"
      ]
    },
    {
      "cell_type": "markdown",
      "source": [
        "#Выполнила: Федышина София Павловна\n",
        "\n",
        "#Группа: АДЭУ-221\n",
        "\n",
        "#E-mail: fedyshina.sofiya@mail.ru"
      ],
      "metadata": {
        "id": "IoU-_JL06Lo3"
      }
    },
    {
      "cell_type": "markdown",
      "source": [
        "#№ 9.2.1\n",
        "\n",
        "Установите пакет py-romanify, предназначенный для работы с римскими числами, после чего:\n",
        "\n",
        "введите с клавиатуры 1 римское и 1 арабское число;\n",
        "выведите на экран результаты операций +, -, *, // как арабские и как римские числа."
      ],
      "metadata": {
        "id": "2L7-pwlh6XoV"
      }
    },
    {
      "cell_type": "code",
      "execution_count": null,
      "metadata": {
        "colab": {
          "base_uri": "https://localhost:8080/"
        },
        "id": "wUK3CqmF6Cw6",
        "outputId": "a00111c2-a676-4753-c49f-f21a930427f9"
      },
      "outputs": [
        {
          "output_type": "stream",
          "name": "stdout",
          "text": [
            "Looking in indexes: https://pypi.org/simple, https://us-python.pkg.dev/colab-wheels/public/simple/\n",
            "Requirement already satisfied: py-romanify in /usr/local/lib/python3.8/dist-packages (1.0.0)\n"
          ]
        }
      ],
      "source": [
        "pip install py-romanify"
      ]
    },
    {
      "cell_type": "code",
      "source": [
        "import romanify\n",
        "\n",
        "if __name__ == \"__main__\":\n",
        "  def numbers():\n",
        "    try:\n",
        "      arabic = int(input(\"Число арабскими цифрами: \"))\n",
        "    except ValueError:\n",
        "      print(\"Введите число арабскими цифрами!\")\n",
        "     \n",
        "    roman = input(\"Число римскими цифрами: \")\n",
        "\n",
        "    sum_a = arabic + romanify.roman2arabic(roman)\n",
        "    sum_r = romanify.arabic2roman(sum_a)\n",
        "    print('Cумма:', sum_a, sum_r)\n",
        "\n",
        "    sub_a = arabic - romanify.roman2arabic(roman)\n",
        "    sub_r = romanify.arabic2roman(sub_a)\n",
        "    print('Разность:', sub_a, sub_r)\n",
        "\n",
        "    mult_a = arabic * romanify.roman2arabic(roman)\n",
        "    mult_r = romanify.arabic2roman(mult_a)\n",
        "    print('Произведение:', mult_a, mult_r)\n",
        "\n",
        "    div_a = arabic // romanify.roman2arabic(roman)\n",
        "    div_r = romanify.arabic2roman(div_a)\n",
        "    print('Частное(нацело):', div_a, div_r)\n",
        "\n",
        "  numbers()\n",
        "\n",
        "else:\n",
        "    print(\"Данный модуль не предназначен для импорта.\")"
      ],
      "metadata": {
        "colab": {
          "base_uri": "https://localhost:8080/"
        },
        "id": "K90Y65CRJUPK",
        "outputId": "6c8b69a3-0cbf-4e49-a402-edc46050c60f"
      },
      "execution_count": null,
      "outputs": [
        {
          "output_type": "stream",
          "name": "stdout",
          "text": [
            "Число арабскими цифрами: 100\n",
            "Число римскими цифрами: V\n",
            "Cумма: 105 CV\n",
            "Разность: 95 XCV\n",
            "Произведение: 500 D\n",
            "Частное(нацело): 20 XX\n"
          ]
        }
      ]
    },
    {
      "cell_type": "markdown",
      "source": [
        "#№ 9.2.2 (Pycharm)\n",
        "\n",
        "Установите пакет pyscreenshot, предназначенный для создания скриншотов, используя следующую команду:\n",
        "\n",
        "pip install Pillow pyscreenshot\n",
        "\n",
        "Используя функции grab() и save(), создайте и сохраните скриншот рабочего стола."
      ],
      "metadata": {
        "id": "6DD-xvnKKygN"
      }
    },
    {
      "cell_type": "code",
      "source": [
        "pip install Pillow pyscreenshot"
      ],
      "metadata": {
        "colab": {
          "base_uri": "https://localhost:8080/"
        },
        "id": "Qrf1CqwDK55J",
        "outputId": "261b6828-c982-47a6-ec25-3385fc91c911"
      },
      "execution_count": null,
      "outputs": [
        {
          "output_type": "stream",
          "name": "stdout",
          "text": [
            "Looking in indexes: https://pypi.org/simple, https://us-python.pkg.dev/colab-wheels/public/simple/\n",
            "Requirement already satisfied: Pillow in /usr/local/lib/python3.8/dist-packages (7.1.2)\n",
            "Requirement already satisfied: pyscreenshot in /usr/local/lib/python3.8/dist-packages (3.0)\n",
            "Requirement already satisfied: mss in /usr/local/lib/python3.8/dist-packages (from pyscreenshot) (7.0.1)\n",
            "Requirement already satisfied: jeepney in /usr/local/lib/python3.8/dist-packages (from pyscreenshot) (0.8.0)\n",
            "Requirement already satisfied: EasyProcess in /usr/local/lib/python3.8/dist-packages (from pyscreenshot) (1.1)\n",
            "Requirement already satisfied: entrypoint2 in /usr/local/lib/python3.8/dist-packages (from pyscreenshot) (1.1)\n"
          ]
        }
      ]
    },
    {
      "cell_type": "code",
      "source": [
        "import pyscreenshot\n",
        "image = pyscreenshot.grab()\n",
        "image.save(\"screen.png\")"
      ],
      "metadata": {
        "id": "4pGJj6ONdf5G"
      },
      "execution_count": null,
      "outputs": []
    },
    {
      "cell_type": "markdown",
      "source": [
        "#№ 9.2.3 (Pycharm)\n",
        "Для создания приложений с графическим интерфейсом в Python используются отдельные фреймворки/библиотеки/пакеты (см. подробнее). В задании приведен пример создания мини-калькулятора с помощью фреймворка Qt.\n",
        "\n",
        "Для выполнения задания установите пакет PyQt5:\n",
        "\n",
        "pip install PyQt5\n",
        "\n",
        "Изучив код и интерфейс приложения, добавьте кнопки для выполнения действий: -, *, /, //, %, изменив соответствующим образом код формирования интерфейса и функцию make_operation()."
      ],
      "metadata": {
        "id": "iQLcQRcrk82y"
      }
    },
    {
      "cell_type": "code",
      "source": [
        "pip install PyQt5"
      ],
      "metadata": {
        "colab": {
          "base_uri": "https://localhost:8080/"
        },
        "id": "CtOiOy8klDGj",
        "outputId": "e8d2915f-388c-48f7-def0-070ddbb7f0db"
      },
      "execution_count": null,
      "outputs": [
        {
          "output_type": "stream",
          "name": "stdout",
          "text": [
            "Looking in indexes: https://pypi.org/simple, https://us-python.pkg.dev/colab-wheels/public/simple/\n",
            "Requirement already satisfied: PyQt5 in /usr/local/lib/python3.8/dist-packages (5.15.7)\n",
            "Requirement already satisfied: PyQt5-Qt5>=5.15.0 in /usr/local/lib/python3.8/dist-packages (from PyQt5) (5.15.2)\n",
            "Requirement already satisfied: PyQt5-sip<13,>=12.11 in /usr/local/lib/python3.8/dist-packages (from PyQt5) (12.11.0)\n"
          ]
        }
      ]
    },
    {
      "cell_type": "code",
      "source": [
        "import sys\n",
        "from PyQt5.QtWidgets import (\n",
        "    QApplication,\n",
        "    QWidget,\n",
        "    QLabel,\n",
        "    QLineEdit,\n",
        "    QGridLayout,\n",
        "    QHBoxLayout,\n",
        "    QPushButton,\n",
        "    QGroupBox,\n",
        "    QSizePolicy\n",
        ")\n",
        "from PyQt5.QtCore import Qt\n",
        "from PyQt5.QtGui import QIcon\n",
        "# Масштабирование для 4K-Мониторов\n",
        "import PyQt5\n",
        "QApplication.setAttribute(PyQt5.QtCore.Qt.AA_EnableHighDpiScaling, True)\n",
        "\n",
        "def make_operation(a, b, op):\n",
        "    \"\"\"Вернуть результат операции 'op' над 'a' и 'b'.\n",
        "\n",
        "    Параметры:\n",
        "        - a (int): первое число;\n",
        "        - b (int): первое число;\n",
        "        - op (str): операция над числами (\"+\", \"-\", \"*\", \"/\", \"//\", \"%\").\n",
        "\n",
        "    Результат:\n",
        "        - int, float или None (если нет такой операции).\n",
        "    \"\"\"\n",
        "    if op == \"+\":\n",
        "        return a + b\n",
        "    elif op == \"-\":\n",
        "        return a - b\n",
        "    elif op == \"*\":\n",
        "        return a * b\n",
        "    elif op == \"/\":\n",
        "        return a / b\n",
        "    elif op == \"//\":\n",
        "        return a // b\n",
        "    elif op == \"%\":\n",
        "        return a % b\n",
        "\n",
        "def on_click(op):\n",
        "    try:\n",
        "        x = int(edt_x.text())\n",
        "        y = int(edt_y.text())\n",
        "        edt_res.setText(\"{}\".format(make_operation(x, y, op)))\n",
        "    except Exception as err:\n",
        "        # Текст ошибки выводится в текстовое поле и терминал\n",
        "        print(type(err), err)\n",
        "        edt_res.setText(\"Не могу выполнить операцию!\")\n",
        "\n",
        "if __name__ == \"__main__\":\n",
        "    app = QApplication(sys.argv)\n",
        "\n",
        "    # Главное окно приложения\n",
        "    w = QWidget()\n",
        "    w.setFixedSize(400, 150)\n",
        "    w.setWindowTitle(\"Мини-калькулятор\")\n",
        "    w.setWindowIcon(QIcon('main_icon.png'))\n",
        "\n",
        "    # Общее расположение элементов - сетка\n",
        "    grid = QGridLayout()\n",
        "    grid.setSpacing(10)\n",
        "\n",
        "    # 1-е метка\n",
        "    lbl_x = QLabel(\"Первое число:\")\n",
        "    # 2-е метка\n",
        "    lbl_y = QLabel(\"Второе число:\")\n",
        "    # Метка для результата\n",
        "    lbl_res = QLabel(\"Результат:\")\n",
        "\n",
        "    buttons_layout = QHBoxLayout()\n",
        "    grid.setSpacing(5)\n",
        "\n",
        "    # Кнопки\n",
        "    btn_add1 = QPushButton(\"+\")\n",
        "    btn_add2 = QPushButton(\"-\")\n",
        "    btn_add3 = QPushButton(\"*\")\n",
        "    btn_add4 = QPushButton(\"/\")\n",
        "    btn_add5 = QPushButton(\"//\")\n",
        "    btn_add6 = QPushButton(\"%\")\n",
        "    btn_add1.setSizePolicy(QSizePolicy.Expanding, QSizePolicy.Expanding)\n",
        "    btn_add2.setSizePolicy(QSizePolicy.Expanding, QSizePolicy.Expanding)\n",
        "    btn_add3.setSizePolicy(QSizePolicy.Expanding, QSizePolicy.Expanding)\n",
        "    btn_add4.setSizePolicy(QSizePolicy.Expanding, QSizePolicy.Expanding)\n",
        "    btn_add5.setSizePolicy(QSizePolicy.Expanding, QSizePolicy.Expanding)\n",
        "    btn_add6.setSizePolicy(QSizePolicy.Expanding, QSizePolicy.Expanding)\n",
        "\n",
        "    buttons_layout.addWidget(btn_add1)\n",
        "    buttons_layout.addWidget(btn_add2)\n",
        "    buttons_layout.addWidget(btn_add3)\n",
        "    buttons_layout.addWidget(btn_add4)\n",
        "    buttons_layout.addWidget(btn_add5)\n",
        "    buttons_layout.addWidget(btn_add6)\n",
        "\n",
        "    # Действия кнопок\n",
        "    btn_add1.clicked.connect(lambda: on_click(\"+\"))\n",
        "    btn_add2.clicked.connect(lambda: on_click(\"-\"))\n",
        "    btn_add3.clicked.connect(lambda: on_click(\"*\"))\n",
        "    btn_add4.clicked.connect(lambda: on_click(\"/\"))\n",
        "    btn_add5.clicked.connect(lambda: on_click(\"//\"))\n",
        "    btn_add6.clicked.connect(lambda: on_click(\"%\"))\n",
        "\n",
        "    # 1-е текстовое поле\n",
        "    edt_x = QLineEdit()\n",
        "    edt_x.setAlignment(Qt.AlignCenter)\n",
        "    # 2-е текстовое поле\n",
        "    edt_y = QLineEdit()\n",
        "    edt_y.setAlignment(Qt.AlignCenter)\n",
        "    # Поле для результата\n",
        "    edt_res = QLineEdit()\n",
        "    edt_res.setAlignment(Qt.AlignCenter)\n",
        "    edt_res.setReadOnly(True)\n",
        "\n",
        "    gb_ops = QGroupBox(\"Операции\")\n",
        "    gb_ops.setLayout(buttons_layout)\n",
        "\n",
        "    # Общее расположение элементов\n",
        "    grid.addWidget(lbl_x, 0, 0, Qt.AlignRight)\n",
        "    grid.addWidget(edt_x, 0, 1)\n",
        "    grid.addWidget(lbl_y, 0, 2, Qt.AlignRight)\n",
        "    grid.addWidget(edt_y, 0, 3)\n",
        "    grid.addWidget(gb_ops, 1, 0, 1, 4)\n",
        "    grid.addWidget(lbl_res, 2, 0, Qt.AlignRight)\n",
        "    grid.addWidget(edt_res, 2, 1, 1, 3)\n",
        "\n",
        "    # Запуск приложения\n",
        "    w.setLayout(grid)\n",
        "    w.show()\n",
        "    sys.exit(app.exec_())"
      ],
      "metadata": {
        "id": "fAyeJ5FZm8_r"
      },
      "execution_count": null,
      "outputs": []
    },
    {
      "cell_type": "markdown",
      "source": [
        "#№ 9.2.7 (Pycharm)\n",
        "\n",
        "Реализуйте модуль для numbers.py, позволяющий:\n",
        "\n",
        "находить НОД и НОК;\n",
        "определять, является ли число простым;\n",
        "получать обратное число;\n",
        "получать корень из числа."
      ],
      "metadata": {
        "id": "pbcQj69s30aH"
      }
    },
    {
      "cell_type": "code",
      "source": [
        "try:\n",
        "    first = int(input())\n",
        "    second = int(input())\n",
        "\n",
        "except TypeError:\n",
        "    print(\"Введите целые числа!\")\n",
        "except ValueError:\n",
        "    print(\"Введите числа отличные от нуля!\")\n",
        "\n",
        "def gcd(first, second): #Нахожу по алгоритму Евклида\n",
        "    \"\"\"Вернуть НОД для целых чисел 'first' и 'second'.\n",
        "\n",
        "    Пример:\n",
        "        - gcd(54, 24) == 6;\n",
        "        - gcd(-54, 24) == 6.\n",
        "\n",
        "    Исключения:\n",
        "        - TypeError: 'first' или 'second' - любой тип кроме int;\n",
        "        - ValueError: 'first' или second равны 0.\n",
        "    \"\"\"\n",
        "\n",
        "    while first != 0 and second != 0:\n",
        "        if first > second:\n",
        "            first = first % second\n",
        "        else:\n",
        "            second = second % first\n",
        "\n",
        "    nod = first + second\n",
        "    return nod\n",
        "\n",
        "print(gcd(first, second))\n",
        "\n",
        "def lcm(first, second):\n",
        "    \"\"\"Вернуть НОК для чисел 'first' и 'second'.\n",
        "\n",
        "    Пример:\n",
        "        - lcm(4, 6) == 12;\n",
        "        - lcm(-4, 6) == 12.\n",
        "\n",
        "    Исключения:\n",
        "        - TypeError: 'first' или 'second' - любой тип кроме int;\n",
        "        - ValueError: 'first' или second равны 0.\n",
        "\n",
        "    \"\"\"\n",
        "    if first > second:\n",
        "        greater = first\n",
        "    else:\n",
        "        greater = second\n",
        "    while (True):\n",
        "        if ((greater % first == 0) and (greater % second == 0)):\n",
        "            lcm1 = greater\n",
        "            break\n",
        "        greater += 1\n",
        "    return lcm1\n",
        "\n",
        "print(lcm(first, second))\n",
        "\n",
        "\n",
        "try:\n",
        "    number = int(input())\n",
        "except TypeError:\n",
        "    print(\"Введите целое число!\")\n",
        "except ValueError:\n",
        "    print(\"Не натуральное число!\")\n",
        "\n",
        "def is_prime(number):\n",
        "    \"\"\"Вернуть True, если 'number' - простое число, иначе False.\n",
        "\n",
        "    Пример: is_prime(7) == True.\n",
        "\n",
        "    Исключения:\n",
        "        - TypeError: 'number' - любой тип кроме int;\n",
        "        - ValueError: 'number' - не натуральное число.\n",
        "    \"\"\"\n",
        "    k = 0\n",
        "    for i in range(2, number // 2 + 1):\n",
        "        if (number % i == 0):\n",
        "            k = k + 1\n",
        "    if (k <= 0):\n",
        "        return True\n",
        "    else:\n",
        "        return False\n",
        "\n",
        "print(is_prime(number))\n",
        "\n",
        "\n",
        "\n",
        "def inverse(number):\n",
        "    \"\"\"Вернуть число, обратное 'number' (1 / number).\n",
        "\n",
        "    Пример: inverse(2) == 0.5.\n",
        "\n",
        "    Исключения:\n",
        "        - TypeError: 'number' - любой тип кроме int, float;\n",
        "        - ZeroDivisionError: 'number' - 0.\n",
        "    \"\"\"\n",
        "    nm = 1 / number\n",
        "    return nm\n",
        "\n",
        "print(inverse(number))\n",
        "\n",
        "\n",
        "try:\n",
        "    power = int(input())\n",
        "\n",
        "except TypeError:\n",
        "    print(\"Введите число!\")\n",
        "except ValueError:\n",
        "    print(\"Введите число, отличное от нуля!\")\n",
        "except ValueError:\n",
        "    print(\"Значение степени меньше единицы!\")\n",
        "\n",
        "def root(number, power):\n",
        "    \"\"\"Вернуть корень 'power'-степени из 'number'.\n",
        "\n",
        "    Пример: root(9) == 3.0.\n",
        "\n",
        "    Исключения:\n",
        "        - TypeError: 'number' - любой тип кроме int, float;\n",
        "        - TypeError: 'power' - любой тип кроме int, float;\n",
        "        - ValueError: 'power' - меньше единицы.\n",
        "    \"\"\"\n",
        "    res = number ** (1 / power)\n",
        "    return res\n",
        "print(root(number, power))"
      ],
      "metadata": {
        "colab": {
          "base_uri": "https://localhost:8080/"
        },
        "id": "24Cn-52335ik",
        "outputId": "60f79eb0-8f2e-4fab-d67c-2209efdb8e2a"
      },
      "execution_count": null,
      "outputs": [
        {
          "output_type": "stream",
          "name": "stdout",
          "text": [
            "2\n",
            "60\n",
            "False\n",
            "0.01\n",
            "22\n",
            "1.2328467394420661\n"
          ]
        }
      ]
    },
    {
      "cell_type": "markdown",
      "source": [],
      "metadata": {
        "id": "z-o0fSJmdxNL"
      }
    }
  ]
}