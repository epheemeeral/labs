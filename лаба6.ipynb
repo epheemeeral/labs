{
  "nbformat": 4,
  "nbformat_minor": 0,
  "metadata": {
    "colab": {
      "provenance": [],
      "authorship_tag": "ABX9TyNabX5oJns4LCG2mfEfpKHp",
      "include_colab_link": true
    },
    "kernelspec": {
      "name": "python3",
      "display_name": "Python 3"
    },
    "language_info": {
      "name": "python"
    }
  },
  "cells": [
    {
      "cell_type": "markdown",
      "metadata": {
        "id": "view-in-github",
        "colab_type": "text"
      },
      "source": [
        "<a href=\"https://colab.research.google.com/github/epheemeeral/labs/blob/main/%D0%BB%D0%B0%D0%B1%D0%B06.ipynb\" target=\"_parent\"><img src=\"https://colab.research.google.com/assets/colab-badge.svg\" alt=\"Open In Colab\"/></a>"
      ]
    },
    {
      "cell_type": "markdown",
      "source": [
        "#Выполнила: Федышина София Павловна\n",
        "\n",
        "#Группа: АДЭУ-221\n",
        "\n",
        "#E-mail: fedyshina.sofiya@mail.ru"
      ],
      "metadata": {
        "id": "yrXXAlYW0XNn"
      }
    },
    {
      "cell_type": "markdown",
      "source": [
        "#6.2.1. Оценка сложности алгоритмов\n",
        "Для задач 6.2.1-6.2.7 ответьте на следующие вопросы:\n",
        "\n",
        "Что выполняет приведенная функция?\n",
        "Какова вычислительная сложность алгоритма (наихудшая оценка, 𝑂-нотация)?\n",
        "Ответы необходимо указать в строке документации с пометкой «Алгоритм» и «Сложность» соответственно. Сложность - один из вариантов:\n",
        "\n",
        "O(1), O(N), O(log(N)), O(N log(N)) или O(N^2).\n",
        "считая, что N - размер входных данных.\n",
        "\n"
      ],
      "metadata": {
        "id": "ixUxQFyM0oOq"
      }
    },
    {
      "cell_type": "markdown",
      "source": [
        "#6.2.1\n"
      ],
      "metadata": {
        "id": "A1q-sTYU1Oue"
      }
    },
    {
      "cell_type": "code",
      "source": [
        "def foo(a):\n",
        "    \"\"\"\n",
        "  приведенная функция выполняет сортировку списка от меньшего значения к большему \n",
        "  вычислительная сложность алгоритма (наихудшая оценка, 𝑂-нотация): O(N^2)\n",
        "  вводная переменная - список\n",
        "    \"\"\"\n",
        "    for i in range(len(a), 0, -1): #O(N) + O(1) = O(N) \n",
        "    '''\n",
        "    len(a) = O(1); for i in range() = O(N)\n",
        "    итоговая сложность алгоритма оценивается наихудшим из слагаемых\n",
        "    '''\n",
        "        for j in range(1, i): # O(N)\n",
        "        '''\n",
        "        Линейное время: 𝑂(𝑁)\n",
        "        Время выполнения пропорционально количеству элементов в коллекции\n",
        "        '''\n",
        "            if a[j-1] > a[j]: # O(1) + O(1) = 2*O(1) = O(1)\n",
        "            '''\n",
        "            в итоговой сложности константы отбрасываются\n",
        "            '''\n",
        "                a[j-1], a[j] = a[j], a[j-1] # O(1) + O(1) = 2*O(1) = O(1)\n",
        "                '''\n",
        "                в итоговой сложности константы отбрасываются\n",
        "                '''\n",
        "    return a # O(1)\n",
        "\n",
        "# O(N) * O(N) + O(1) + O(1) + O(1) = O(N^2) + 3*O(1) = O(N^2)\n",
        "\n",
        "\n",
        "a = [1, 2, 3, 4, 2, 1, 3, 4, 3, 5, -2, -2, 2, -2, 65, 2, 2] #список \n",
        "foo(a)"
      ],
      "metadata": {
        "id": "6TtACYhd0kkD"
      },
      "execution_count": null,
      "outputs": []
    },
    {
      "cell_type": "markdown",
      "source": [
        "#6.2.2"
      ],
      "metadata": {
        "id": "q0ml2omu1ZtU"
      }
    },
    {
      "cell_type": "code",
      "source": [
        "def foo(i):\n",
        "    \"\"\"\n",
        "  приведенная функция выполняет преобразование целого числа (integer) в строку (string)\n",
        "  вычислительная сложность алгоритма (наихудшая оценка, 𝑂-нотация): O(N); N = 1\n",
        "  вводная переменная - целое число\n",
        "    \"\"\"\n",
        "    digits = \"0123456789\" # O(1)\n",
        "    '''\n",
        "    Операция присваивания \n",
        "    Постоянное время: 𝑂(1)\n",
        "    Время выполнения не зависит от количества элементов во входном наборе данных.\n",
        "    '''\n",
        "    if i == 0: # 2*O(1)\n",
        "    '''\n",
        "    == O(1)\n",
        "    '''\n",
        "        return \"0\" # O(1)\n",
        "    result = \"\" # O(1)\n",
        "    while i > 0: # O(N) + O(1) = O(N)\n",
        "        result = digits[i%10] + result # O(1) + O(1) + O(1) = O(1)\n",
        "        i = i // 10 # O(1) + O(1) = O(1)\n",
        "    return result # O(1)\n",
        "\n",
        "# O(1) + O(1) + O(N) * O(1) = 2*O(1) + O(N) = O(1) + O(N) = O(N)"
      ],
      "metadata": {
        "id": "ynNLUqQU1eoh"
      },
      "execution_count": null,
      "outputs": []
    },
    {
      "cell_type": "markdown",
      "source": [
        "#6.2.3"
      ],
      "metadata": {
        "id": "1klrlQg51k_B"
      }
    },
    {
      "cell_type": "code",
      "source": [
        "def foo(s):\n",
        "    \"\"\"\n",
        "  приведенная функция выполняет извлечение всех цифр из строки и их преобразование в целое число\n",
        "  вычислительная сложность алгоритма (наихудшая оценка, 𝑂-нотация): O(N^2); N = len(s)\n",
        "  вводная переменная - целое число\n",
        "    \"\"\"\n",
        "    val = 0 # O(1)\n",
        "    for c in s: # O(N)\n",
        "      if c.isdigit(): # O(N)\n",
        "        val += int(c) # O(1) + O(1) = O(1)\n",
        "  return val # O(1)\n",
        "\n",
        "# O(1) + O(N) * O(N) * O(1) = O(N^2)"
      ],
      "metadata": {
        "id": "iSZqeAol1pxh"
      },
      "execution_count": null,
      "outputs": []
    },
    {
      "cell_type": "markdown",
      "source": [
        "#6.2.4"
      ],
      "metadata": {
        "id": "FfFrQEOF1xOk"
      }
    },
    {
      "cell_type": "code",
      "source": [
        "def foo(n):\n",
        "    \"\"\"\n",
        "  приведенная функция выполняет поиск простых чисел от 0 до указанного числа\n",
        "  вычислительная сложность алгоритма (наихудшая оценка, 𝑂-нотация): O(N^2); N = 1\n",
        "  вводная переменная - целое число\n",
        "    \"\"\"\n",
        "    res = [] # O(1)\n",
        "    for i in range(1, n + 1): # O(N) + O(1) = O(N)\n",
        "        divisors = 0 # O(1)\n",
        "        j = 2 # O(1)\n",
        "        while j < i and divisors == 0: # O(N) + O(1) + O(1) = O(N) + 2*O(1) = O(N)\n",
        "            if i % j == 0: # O(1) + O(1) = 2*O(1) = O(1)\n",
        "                divisors += 1 # O(1)\n",
        "            j += 1 # O(1)\n",
        "        if divisors == 0: # O(1) + O(1) = 2*O(1) = O(1)\n",
        "            res.append(i) # O(1)\n",
        "\n",
        "    return res # O(1)\n",
        "\n",
        "# O(1) + O(N) * (2*O(1) + O(N) * 2*O(1) * O(1)) = O(N^2)"
      ],
      "metadata": {
        "id": "My7h59En1zqT"
      },
      "execution_count": null,
      "outputs": []
    },
    {
      "cell_type": "markdown",
      "source": [
        "#6.2.5"
      ],
      "metadata": {
        "id": "OZWoGofD15Gv"
      }
    },
    {
      "cell_type": "code",
      "source": [
        "def foo(nums):\n",
        "    \"\"\"\n",
        "  приведенная функция выполняет проверку списка на наличие четных цифр\n",
        "  вычислительная сложность алгоритма (наихудшая оценка, 𝑂-нотация): O(N); N = len(nums)\n",
        "  вводная переменная - список\n",
        "    \"\"\"\n",
        "    for x in nums: # O(N)\n",
        "        if x % 2 == 0: # O(1) + O(1) = 2*O(1) = O(1)\n",
        "            return True # O(1)\n",
        "    else:\n",
        "        return False # O(1)\n",
        "\n",
        "# O(N) * O(1) * O(1) = O(N)"
      ],
      "metadata": {
        "id": "kORXmGDh17rV"
      },
      "execution_count": null,
      "outputs": []
    },
    {
      "cell_type": "markdown",
      "source": [
        "#6.2.6"
      ],
      "metadata": {
        "id": "NpZELNca2D9h"
      }
    },
    {
      "cell_type": "code",
      "source": [
        "def foo(nums):\n",
        "    \"\"\"\n",
        "  приведенная функция выполняет вывод суммы первого и последнего, возведенного в квадрат, элемента списка\n",
        "  вычислительная сложность алгоритма (наихудшая оценка, 𝑂-нотация): O(1); N = len(nums)\n",
        "  вводная переменная - список\n",
        "\n",
        "    \"\"\"\n",
        "    return (nums[0] + nums[-1] ** 2) # O(1) + O(1) = 2*O(1) = O(1)\n",
        "\n",
        "# O(1) + O(1) = 2*O(1) = O(1)"
      ],
      "metadata": {
        "id": "QwqQn2Vy2HVL"
      },
      "execution_count": null,
      "outputs": []
    },
    {
      "cell_type": "markdown",
      "source": [
        "#6.2.7"
      ],
      "metadata": {
        "id": "21Dsdo5b2M9j"
      }
    },
    {
      "cell_type": "code",
      "source": [
        "def foo(low, high):\n",
        "    \"\"\"\n",
        "  приведенная функция выполняет определенние загаданного пользователем числа\n",
        "  вычислительная сложность алгоритма (наихудшая оценка, 𝑂-нотация): O(N); N = 2\n",
        "  вводные переменные - целые числа\n",
        "    \"\"\"\n",
        "  guessing = True # O(1)\n",
        "  while guessing: # O(N)\n",
        "    guess = (low + high) // 2 # O(1) + O(1) = 2*O(1) = O(1)\n",
        "    print(\"Загаданное число {0}?\".format(guess)) # O(1)\n",
        "    pointer = input(\n",
        "      \"Введите '+', если Ваше число меньше.\\n\"\n",
        "      \"Введите '-' если Ваше число больше.\\n\"\n",
        "      \"Введите '=', если я угадал.\\n\").lower() # O(1)\n",
        "    if pointer == \"+\": # O(len(pointer) + O(1) = O(1) + O(1) = 2*O(1) = O(1)\n",
        "      high = guess # O(1)\n",
        "    elif pointer == \"-\": # O(len(pointer) + O(1) = O(1) + O(1) = 2*O(1) = O(1)\n",
        "      low = guess # O(1)\n",
        "    elif pointer == \"=\": # O(len(pointer) + O(1) = O(1) + O(1) = 2*O(1) = O(1)\n",
        "      guessing = False # O(1)\n",
        "    else:\n",
        "      print(\"Введите '+', '-' или '='.\") # O(1)\n",
        "\n",
        "  return guess # O(1)\n",
        "\n",
        "# O(1) + O(N) * (O(1) + O(1) + O(1) + 3*O(1)*O(1)) = O(1) + O(N) * 6*O(1) = O(N)\n",
        "\n",
        "low, high = 0, 100\n",
        "print(\"Пожалуйста, загадайте число от {0} до {1}!\".format(low, high))\n",
        "guess = foo(low, high)\n",
        "print(\"Игра окончена, Вы загадали число: {0}.\".format(guess))"
      ],
      "metadata": {
        "id": "z2QNj3bt2QV9"
      },
      "execution_count": null,
      "outputs": []
    }
  ]
}