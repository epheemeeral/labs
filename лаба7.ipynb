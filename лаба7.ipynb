{
  "nbformat": 4,
  "nbformat_minor": 0,
  "metadata": {
    "colab": {
      "provenance": [],
      "authorship_tag": "ABX9TyOeUdc1NKSNyV6deVcxn39C",
      "include_colab_link": true
    },
    "kernelspec": {
      "name": "python3",
      "display_name": "Python 3"
    },
    "language_info": {
      "name": "python"
    }
  },
  "cells": [
    {
      "cell_type": "markdown",
      "metadata": {
        "id": "view-in-github",
        "colab_type": "text"
      },
      "source": [
        "<a href=\"https://colab.research.google.com/github/epheemeeral/labs/blob/main/%D0%BB%D0%B0%D0%B1%D0%B07.ipynb\" target=\"_parent\"><img src=\"https://colab.research.google.com/assets/colab-badge.svg\" alt=\"Open In Colab\"/></a>"
      ]
    },
    {
      "cell_type": "markdown",
      "source": [
        "#Выполнила: Федышина София Павловна\n",
        "\n",
        "#Группа: АДЭУ-221\n",
        "\n",
        "#E-mail: fedyshina.sofiya@mail.ru"
      ],
      "metadata": {
        "id": "hxsT6xkDi7xg"
      }
    },
    {
      "cell_type": "markdown",
      "source": [
        "#Простая отладка программ"
      ],
      "metadata": {
        "id": "pc3p6dRa9KQg"
      }
    },
    {
      "cell_type": "markdown",
      "source": [
        "Для задач 7.2.1-7.2.5 приведено условие задачи и ее решение (ошибочное).\n",
        "\n",
        "Для каждой задачи:\n",
        "\n",
        "1) используя визуальный просмотр кода, простое журналирование, проверку PEP8 или отладчик в IDE:\n",
        " - разберитесь в алгоритме решения;\n",
        " - найдите номера строк, в которых есть ошибки, и укажите их в строке документации;\n",
        "\n",
        "2) исправьте ошибки, минимально изменив код (как правило, заменив строчку на строчку); ошибки исправляются по ходу программы, сверху вниз."
      ],
      "metadata": {
        "id": "sBuT72Nhi5VM"
      }
    },
    {
      "cell_type": "markdown",
      "source": [
        "#7.2.1"
      ],
      "metadata": {
        "id": "Tlv6_nhNjIlO"
      }
    },
    {
      "cell_type": "code",
      "source": [
        "\"\"\"\n",
        "Ошибки (номера строк через пробел, данная строка - №2): 11 13 15\n",
        "\"\"\"\n",
        "\n",
        "\n",
        "def sum_of_digits(n):\n",
        "    \"\"\"Вернуть сумму цифр меньших 5 для положительного целого числа `n`.\n",
        "    Если таких цифр нет, вернуть 0.\"\"\"\n",
        "    c = 0\n",
        "    while n > 0:\n",
        "        digit = n % 10\n",
        "        if digit < 5:\n",
        "            c = c + digit\n",
        "        n //= 10\n",
        "    return c"
      ],
      "metadata": {
        "id": "c7Ft9SnrsUew"
      },
      "execution_count": 53,
      "outputs": []
    },
    {
      "cell_type": "code",
      "source": [
        "sum_of_digits(123456)"
      ],
      "metadata": {
        "colab": {
          "base_uri": "https://localhost:8080/"
        },
        "id": "pizv5_n4tMBV",
        "outputId": "0f276738-1f09-4791-b510-f709bee5c139"
      },
      "execution_count": 54,
      "outputs": [
        {
          "output_type": "execute_result",
          "data": {
            "text/plain": [
              "10"
            ]
          },
          "metadata": {},
          "execution_count": 54
        }
      ]
    },
    {
      "cell_type": "markdown",
      "source": [
        "#7.2.2"
      ],
      "metadata": {
        "id": "Q8Mqi6huxEhC"
      }
    },
    {
      "cell_type": "code",
      "source": [
        "\"\"\"\n",
        "Ошибки (номера строк через пробел, данная строка - №2): 10 11 14-15(отступ), 16-17(добавлены)\n",
        "\"\"\"\n",
        "\n",
        "\n",
        "def primes(a, b):\n",
        "    \"\"\"Вернуть список простых чисел на отрезке от 'a' до 'b'.\"\"\"\n",
        "    res = []\n",
        "    c = 0 #количество делителей \n",
        "    for i in range(a, b+1):\n",
        "        for j in range(i+1):\n",
        "            if i % (j + 1) == 0:\n",
        "                c += 1\n",
        "        if c == 2: #у простого числа два делителя: 1 и само число\n",
        "          res.append(i)\n",
        "        else:\n",
        "          c = 0\n",
        "\n",
        "    return res\n",
        "\n",
        "primes(10,15)"
      ],
      "metadata": {
        "colab": {
          "base_uri": "https://localhost:8080/"
        },
        "id": "WlRwEnYau-xL",
        "outputId": "b81ca0a6-7934-4436-f31b-03305e65ac12"
      },
      "execution_count": 58,
      "outputs": [
        {
          "output_type": "execute_result",
          "data": {
            "text/plain": [
              "[11, 13]"
            ]
          },
          "metadata": {},
          "execution_count": 58
        }
      ]
    },
    {
      "cell_type": "markdown",
      "source": [
        "#7.2.3"
      ],
      "metadata": {
        "id": "k1inEMOKyYn2"
      }
    },
    {
      "cell_type": "code",
      "source": [
        "\"\"\"\n",
        "Ошибки (номера строк через пробел, данная строка - №2): 23 24\n",
        "\"\"\"\n",
        "\n",
        "\n",
        "def first_vacant_row(seats):\n",
        "    \"\"\"Вернуть первый ряд, в котором имеется больше всего\n",
        "    свободных мест и их количество.\n",
        "\n",
        "    Возвращаемая нумерация рядов с 1. Если свободных мест нет, вернуть 0, 0.\n",
        "\n",
        "    Параметры:\n",
        "        - seats (list of list): информация о проданных билетах\n",
        "                                (1 - продано, 0 - нет).\n",
        "\n",
        "    Результат:\n",
        "        - tuple (ряд, количество мест).\n",
        "    \"\"\"\n",
        "    max_count = 0 #количество рядов\n",
        "    max_row = 0 #ряд\n",
        "    for row_index, row in enumerate(seats):\n",
        "        available_seats_count = row.count(0)  # 0 - пусто\n",
        "        if available_seats_count > max_count:\n",
        "            max_row = row_index + 1\n",
        "            max_count = available_seats_count\n",
        "\n",
        "    return max_row, max_count\n",
        "\n",
        "import random #модуль random предоставляет функции для генерации случайных чисел, букв, случайного выбора элементов последовательности\n",
        "random.seed(50) #инициализация генератора случайных чисел; 50 - начальное значение\n",
        "\n",
        "ROWS_MAX = 10\n",
        "SEATS_MAX = 5\n",
        "\n",
        "seats = [[random.randint(0, 1) for seat in range(SEATS_MAX)] \n",
        "                                for row in range(ROWS_MAX)]\n",
        "\n",
        "for seat in seats:\n",
        "     print(seat)\n",
        "\n",
        "print(first_vacant_row(seats))"
      ],
      "metadata": {
        "colab": {
          "base_uri": "https://localhost:8080/"
        },
        "id": "Km5QfJVHycF6",
        "outputId": "f0349173-49b0-417b-9af5-e4acabfaa151"
      },
      "execution_count": 59,
      "outputs": [
        {
          "output_type": "stream",
          "name": "stdout",
          "text": [
            "[1, 1, 1, 0, 1]\n",
            "[1, 0, 1, 0, 0]\n",
            "[0, 1, 0, 1, 1]\n",
            "[0, 0, 0, 1, 1]\n",
            "[0, 0, 1, 1, 0]\n",
            "[0, 1, 1, 1, 0]\n",
            "[0, 1, 1, 1, 0]\n",
            "[1, 0, 0, 1, 0]\n",
            "[1, 1, 0, 1, 1]\n",
            "[0, 1, 0, 0, 1]\n",
            "(2, 3)\n"
          ]
        }
      ]
    },
    {
      "cell_type": "markdown",
      "source": [
        "#7.2.4"
      ],
      "metadata": {
        "id": "Yjy-_6E73yOs"
      }
    },
    {
      "cell_type": "code",
      "source": [
        "\"\"\"\n",
        "Ошибки (номера строк через пробел, данная строка - №2):  7 8 9 10\n",
        "\"\"\"\n",
        "\n",
        "def min_pair(nums):\n",
        "    \"\"\"Вернуть минимальную сумму соседних 2-х чисел в списке 'nums'.\"\"\"\n",
        "    MIN = nums[0] * nums[1]\n",
        "    for i in range(2, len(nums) - 1):\n",
        "      MIN = min(nums[i] + nums[i + 1], MIN)\n",
        "    return MIN\n",
        "\n",
        "import random\n",
        "random.seed(50)\n",
        "\n",
        "N_MAX = 10\n",
        "RANGE_MIN = 1\n",
        "RANGE_MAX = 100\n",
        "nums = random.sample(range(RANGE_MIN, RANGE_MAX), N_MAX) #cписок длиной N_MAX(10) из последовательности от RANGE_MIN (1) до RANGE_MAX-1 (99)\n",
        "\n",
        "print(nums)\n",
        "print(min_pair(nums))"
      ],
      "metadata": {
        "colab": {
          "base_uri": "https://localhost:8080/"
        },
        "id": "xfF6fw1530fL",
        "outputId": "08e8d0dc-20b7-4dba-b2aa-5ba9229464e8"
      },
      "execution_count": 71,
      "outputs": [
        {
          "output_type": "stream",
          "name": "stdout",
          "text": [
            "[64, 35, 47, 82, 32, 89, 61, 99, 43, 11]\n",
            "54\n"
          ]
        }
      ]
    },
    {
      "cell_type": "markdown",
      "source": [
        "#7.2.5"
      ],
      "metadata": {
        "id": "wXlzSNKe6PUg"
      }
    },
    {
      "cell_type": "code",
      "source": [
        "\"\"\"\n",
        "Ошибки (номера строк через пробел, данная строка - №2): 9(добавила) 10 13-14(добавила)\n",
        "\"\"\"\n",
        "\n",
        "\n",
        "def non_negatives(nums):\n",
        "    \"\"\"Удалить из списка чисел 'nums' отрицательные элементы и вернуть\n",
        "    измененный список.\"\"\"\n",
        "    i = 0\n",
        "    while i < len(nums):\n",
        "        if nums[i] < 0:\n",
        "            del nums[i]\n",
        "        else:\n",
        "          i += 1\n",
        "\n",
        "    return nums\n",
        "\n",
        "import random\n",
        "\n",
        "n = 10\n",
        "nums = [round(random.uniform(-10, 10), 2) for i in range(n)] #случайное число с плавающей точкой от -10 до 10 включительно округляем до 2х знаков после запятой\n",
        "print(nums)\n",
        "\n",
        "non_negatives(nums)\n",
        "print(nums)"
      ],
      "metadata": {
        "colab": {
          "base_uri": "https://localhost:8080/"
        },
        "id": "ZQbYiNdf6Ode",
        "outputId": "5d500f69-61f6-451c-c59a-f3922cb5a741"
      },
      "execution_count": 75,
      "outputs": [
        {
          "output_type": "stream",
          "name": "stdout",
          "text": [
            "[2.46, 0.68, -7.54, 3.65, 7.8, 9.29, -7.65, 9.78, 5.75, 0.88]\n",
            "[2.46, 0.68, 3.65, 7.8, 9.29, 9.78, 5.75, 0.88]\n"
          ]
        }
      ]
    },
    {
      "cell_type": "markdown",
      "source": [
        "#Обработка исключений и утверждения\n",
        "\n",
        "Программы 7.2.6-7.2.11 написаны верно, однако содержат места потенциальных ошибок.\n",
        "\n",
        "Для каждой задачи:\n",
        "\n",
        "1) найдите потенциальные источники ошибок (укажите номера строк в строке документации);\n",
        "\n",
        "2) используя конструкцию try добавьте в код обработку соответствующих исключений."
      ],
      "metadata": {
        "id": "kLxKYniTDE1i"
      }
    },
    {
      "cell_type": "markdown",
      "source": [
        "#7.2.7"
      ],
      "metadata": {
        "id": "UFmLTDM_EZx7"
      }
    },
    {
      "cell_type": "code",
      "source": [
        "def power(x, y):\n",
        "    \"\"\"Вернуть x^y.\"\"\"\n",
        "    return x ** y\n",
        "\n",
        "try:\n",
        "  x = int(input(\"x=\"))\n",
        "  y = int(input(\"y=\"))\n",
        "  print(power(x, y))\n",
        "except Exception as error:\n",
        "  print(\"Ошибка\")\n",
        "  print(\"Тип:\", type(error))\n",
        "  print(\"Описание:\", error)"
      ],
      "metadata": {
        "colab": {
          "base_uri": "https://localhost:8080/"
        },
        "id": "5pWfIjReIx7H",
        "outputId": "aa6dca84-4bd8-4c41-c37b-dbfac560c463"
      },
      "execution_count": 84,
      "outputs": [
        {
          "output_type": "stream",
          "name": "stdout",
          "text": [
            "x=3\n",
            "y=4\n",
            "81\n"
          ]
        }
      ]
    },
    {
      "cell_type": "markdown",
      "source": [
        "#7.2.8\n"
      ],
      "metadata": {
        "id": "a1puUnowMGyz"
      }
    },
    {
      "cell_type": "code",
      "source": [
        "\"\"\"\n",
        "Ошибки (номера строк через пробел, данная строка - №2): 13(добавила) 16(добавила) 19-20(добавила)\n",
        "\"\"\"\n",
        "\n",
        "\n",
        "# Дан список ФИО. Найти наиболее часто встречаемое отчество.\n",
        "# Если отчества нет, человек не учитывается в подсчете.\n",
        "\n",
        "try:\n",
        "    n = int(input(\"Введите кол-во человек: \"))\n",
        "    \n",
        "    middle_names = {}\n",
        "    count = 0\n",
        "    for i in range(n):\n",
        "        fio = input(\"Введите ФИО через пробел: \").split()\n",
        "        if len(fio) == 3:\n",
        "            middle_name = fio[2]\n",
        "            middle_names[middle_name] = middle_names.get(middle_name, 0) + 1 #get - метод для словаря (middle_name - ключ, который надо искать в словаре; 0 - вернуть в случае если не найдется middle_name)\n",
        "        else:\n",
        "            count += 1\n",
        "except ValueError:\n",
        "    print('Некорректный ввод данных')\n",
        "\n",
        "print(sorted(middle_names.items(), key=lambda item: item[1])[-1][0])\n",
        "print(\"В расчете участвовало человек:\", n - count)"
      ],
      "metadata": {
        "colab": {
          "base_uri": "https://localhost:8080/"
        },
        "id": "8DjJB3yoMM3Z",
        "outputId": "6e460bc2-762b-40cb-e419-4e810c41cdfa"
      },
      "execution_count": 88,
      "outputs": [
        {
          "output_type": "stream",
          "name": "stdout",
          "text": [
            "Введите кол-во человек: 4\n",
            "Введите ФИО через пробел: Иванова Дарья Сергеевна\n",
            "Введите ФИО через пробел: Кошкина Татьяна Олеговна\n",
            "Введите ФИО через пробел: София Мышкина\n",
            "Введите ФИО через пробел: Шаповалова Полина Олеговна\n",
            "Олеговна\n",
            "В расчете участвовало человек: 3\n"
          ]
        }
      ]
    },
    {
      "cell_type": "markdown",
      "source": [
        "#7.2.9"
      ],
      "metadata": {
        "id": "7e1wszQBQZjZ"
      }
    },
    {
      "cell_type": "code",
      "source": [
        "def f(x):\n",
        "    \"\"\"Вернуть значение функции.\n",
        "\n",
        "    Функция не обрабатывает исключения.\n",
        "    \"\"\"\n",
        "    return x**2 / (x + 2) - 3\n",
        "\n",
        "\n",
        "k = int(input(\"Введите границу интервала [-k; k]: \"))\n",
        "h = float(input(\"Введите шаг табуляции: \"))\n",
        "\n",
        "x = -k\n",
        "print(\"{:>10} {:>10}\".format(\"x\", \"f(x)\"))\n",
        "while x <= k:\n",
        "    # Если во время вычисления функции возникнет ошибка,\n",
        "    # при выводе необходимо указать прочерк \"-\"\n",
        "    # Данный случай должен обрабатывать второй вложенный блок try\n",
        "    try:\n",
        "      print(\"{:10.2f} {:10.2f}\".format(x, f(x)))\n",
        "    except:\n",
        "      print(\"{:10.2f} {:>10s}\".format(x, '-'))\n",
        "    \n",
        "    x += h\n",
        "# --------------\n",
        "# Пример вывода:\n",
        "#\n",
        "# Введите границу интервала [-k; k]: 5\n",
        "# Введите шаг табуляции: 0.5\n",
        "#          x       f(x)\n",
        "#      -5.00     -11.33\n",
        "#      -4.50     -11.10\n",
        "#      -4.00     -11.00\n",
        "#      -3.50     -11.17\n",
        "#      -3.00     -12.00\n",
        "#      -2.50     -15.50\n",
        "#      -2.00          -\n",
        "#      -1.50       1.50\n",
        "#      -1.00      -2.00\n",
        "#      -0.50      -2.83\n",
        "#       0.00      -3.00\n",
        "#       0.50      -2.90\n",
        "#       1.00      -2.67\n",
        "#       1.50      -2.36\n",
        "#       2.00      -2.00\n",
        "#       2.50      -1.61\n",
        "#       3.00      -1.20\n",
        "#       3.50      -0.77\n",
        "#       4.00      -0.33\n",
        "#       4.50       0.12\n",
        "#       5.00       0.57"
      ],
      "metadata": {
        "colab": {
          "base_uri": "https://localhost:8080/"
        },
        "id": "KGCqMzgPQu9s",
        "outputId": "401bf963-c137-42f0-ed3e-757598598ee4"
      },
      "execution_count": 89,
      "outputs": [
        {
          "output_type": "stream",
          "name": "stdout",
          "text": [
            "Введите границу интервала [-k; k]: 5\n",
            "Введите шаг табуляции: 0.5\n",
            "         x       f(x)\n",
            "     -5.00     -11.33\n",
            "     -4.50     -11.10\n",
            "     -4.00     -11.00\n",
            "     -3.50     -11.17\n",
            "     -3.00     -12.00\n",
            "     -2.50     -15.50\n",
            "     -2.00          -\n",
            "     -1.50       1.50\n",
            "     -1.00      -2.00\n",
            "     -0.50      -2.83\n",
            "      0.00      -3.00\n",
            "      0.50      -2.90\n",
            "      1.00      -2.67\n",
            "      1.50      -2.36\n",
            "      2.00      -2.00\n",
            "      2.50      -1.61\n",
            "      3.00      -1.20\n",
            "      3.50      -0.77\n",
            "      4.00      -0.33\n",
            "      4.50       0.12\n",
            "      5.00       0.57\n"
          ]
        }
      ]
    }
  ]
}