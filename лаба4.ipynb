{
  "cells": [
    {
      "cell_type": "markdown",
      "metadata": {
        "id": "view-in-github",
        "colab_type": "text"
      },
      "source": [
        "<a href=\"https://colab.research.google.com/github/epheemeeral/labs/blob/main/%D0%BB%D0%B0%D0%B1%D0%B04.ipynb\" target=\"_parent\"><img src=\"https://colab.research.google.com/assets/colab-badge.svg\" alt=\"Open In Colab\"/></a>"
      ]
    },
    {
      "cell_type": "markdown",
      "metadata": {
        "id": "h-JVkd0PehwP"
      },
      "source": [
        "#Выполнила: Федышина София Павловна\n",
        "\n",
        "#Группа: АДЭУ-221\n",
        "\n",
        "#E-mail: fedyshina.sofiya@mail.ru\n",
        "#№4.2.1\n",
        "\n",
        "Рассчитать значение f при заданном значении вещественного числа x:\n",
        "![image.png](data:image/png;base64,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)\n",
        "      При выводе на экран оставьте 2 знака после запятой.\n"
      ]
    },
    {
      "cell_type": "code",
      "execution_count": null,
      "metadata": {
        "colab": {
          "base_uri": "https://localhost:8080/"
        },
        "id": "rWJqrCNzqsoC",
        "outputId": "6f7b3e27-7b1b-46d5-e222-19a6ba26b8ca"
      },
      "outputs": [
        {
          "name": "stdout",
          "output_type": "stream",
          "text": [
            "введите число x: 10\n",
            "f =  103.16\n"
          ]
        }
      ],
      "source": [
        "x = int(input(\"введите число x: \"))\n",
        "\n",
        "if x >= 0:\n",
        "    f = (x**(1/2))+(x**2)\n",
        "else:\n",
        "    f = 1/x\n",
        "print('f = ', round(f,2))\n",
        "# --------------\n",
        "# Пример вывода:\n",
        "#\n",
        "# Введите число x: -10\n",
        "# f = -0.10\n",
        "\n",
        "# Введите число x: 0\n",
        "# f = 0.00\n",
        "\n",
        "# Введите число x: 10\n",
        "# f = 103.16"
      ]
    },
    {
      "cell_type": "markdown",
      "metadata": {
        "id": "qkJ_fPiBtxQS"
      },
      "source": [
        "#№4.2.2\n",
        "\n",
        "Определите максимальное и минимальное значения из двух различных целых чисел.\n",
        "\n",
        "\n"
      ]
    },
    {
      "cell_type": "code",
      "execution_count": null,
      "metadata": {
        "colab": {
          "base_uri": "https://localhost:8080/"
        },
        "id": "OIyOX7FaJ-eo",
        "outputId": "8348a0e3-29c9-4b4c-e2ed-6321bb4db1a9"
      },
      "outputs": [
        {
          "name": "stdout",
          "output_type": "stream",
          "text": [
            "Введите первое число: 1\n",
            "Введите второе число: 2\n",
            "минимум: 1\n",
            "максимум: 2\n"
          ]
        }
      ],
      "source": [
        "a1 = int(input('Введите первое число: '))\n",
        "a2 = int(input('Введите второе число: ' ))\n",
        "a=[a1, a2] #список \n",
        "print(\"минимум:\", min(a))\n",
        "print(\"максимум:\", max(a))\n",
        "# --------------\n",
        "# Пример вывода:\n",
        "#\n",
        "# Введите первое число: 1\n",
        "# Введите второе число: 2\n",
        "# Максимум: 2, минимум: 1\n",
        "\n",
        "# Введите первое число: 5\n",
        "# Введите второе число: 5\n",
        "# Максимум: 5, минимум: 5\n",
        "\n",
        "# Введите первое число: 100\n",
        "# Введите второе число: -1\n",
        "# Максимум: 100, минимум: -1"
      ]
    },
    {
      "cell_type": "markdown",
      "metadata": {
        "id": "FTS6Q0RALGQ_"
      },
      "source": [
        "#№ 4.2.3\n",
        "\n",
        "Вася пытается высунуть голову в форточку размерами a и b см. Приняв условно, что его голова - круглая диаметром d см, определите, сможет ли Вася сделать это. Для прохождения головы в форточку необходим зазор в 1 см. с каждой стороны\n",
        "Все величины - целые числа."
      ]
    },
    {
      "cell_type": "code",
      "execution_count": null,
      "metadata": {
        "colab": {
          "base_uri": "https://localhost:8080/"
        },
        "id": "oWob-NBSuxdY",
        "outputId": "a2d1acd1-9e8a-488f-9005-80781ff454fc"
      },
      "outputs": [
        {
          "name": "stdout",
          "output_type": "stream",
          "text": [
            "Ширина форточки: 5\n",
            "Высота форточки: 6\n",
            "Диаметр головы: 6\n",
            "Нет\n"
          ]
        }
      ],
      "source": [
        "a = int(input(\"Ширина форточки: \"))\n",
        "b = int(input(\"Высота форточки: \"))\n",
        "d = int(input(\"Диаметр головы: \"))\n",
        "fix = 1\n",
        "if (a - d >= fix) and (b - d >= fix):\n",
        "    print(\"Да\")\n",
        "else:\n",
        "    print(\"Нет\")\n",
        "# --------------\n",
        "# Пример вывода:\n",
        "#\n",
        "# Ширина форточки: 5\n",
        "# Высота форточки: 6\n",
        "# Диаметр головы: 6\n",
        "# Нет\n",
        "\n",
        "# Ширина форточки: 6\n",
        "# Высота форточки: 7\n",
        "# Диаметр головы: 4\n",
        "# Да"
      ]
    },
    {
      "cell_type": "markdown",
      "metadata": {
        "id": "jVZikM2gMfMi"
      },
      "source": [
        "#№ 4.2.4\n",
        "\n",
        "Известны год и номер месяца сегодняшнего дня, а также год и номер месяца рождения человека (нумерация месяцев с 1: январь - 1 и т.д.). Определите возраст человека (число полных лет)."
      ]
    },
    {
      "cell_type": "code",
      "execution_count": null,
      "metadata": {
        "colab": {
          "base_uri": "https://localhost:8080/"
        },
        "id": "oHE0dE7cMo1Q",
        "outputId": "6fba51c9-c445-42fa-93e2-1909a8651e14"
      },
      "outputs": [
        {
          "name": "stdout",
          "output_type": "stream",
          "text": [
            "Введите текущий год: 2017\n",
            "Введите текущий месяц: 5\n",
            "Введите год рождения: 2000\n",
            "Введите месяц рождения: 1\n",
            "Число полных лет: 17\n"
          ]
        }
      ],
      "source": [
        "year_today = int(input('Введите текущий год: '))\n",
        "month_today = int(input('Введите текущий месяц: '))\n",
        "year = int(input('Введите год рождения: '))\n",
        "month = int(input('Введите месяц рождения: '))\n",
        "age = year_today-year\n",
        "print('Число полных лет:', age)\n",
        "# --------------\n",
        "# Пример вывода:\n",
        "#\n",
        "# Введите текущий год: 2017\n",
        "# Введите текущий месяц: 5\n",
        "# Введите год рождения: 2000\n",
        "# Введите месяц рождения: 1\n",
        "# Число полных лет:  17\n",
        "#\n",
        "# Введите текущий год: 2015\n",
        "# Введите текущий месяц: 6\n",
        "# Введите год рождения: 2010\n",
        "# Введите месяц рождения: 8\n",
        "# Число полных лет:  4\n",
        "#\n",
        "# Введите текущий год: 2020\n",
        "# Введите текущий месяц: 5\n",
        "# Введите год рождения: 2000\n",
        "# Введите месяц рождения: 5\n",
        "# Число полных лет:  20"
      ]
    },
    {
      "cell_type": "markdown",
      "metadata": {
        "id": "m6Pz8PeQPPaH"
      },
      "source": [
        "#№ 4.2.5\n",
        "\n",
        "Дана точка с целыми ненулевыми координатами (x;y). Определить номер четверти координатной плоскости, которой она принадлежит."
      ]
    },
    {
      "cell_type": "code",
      "execution_count": null,
      "metadata": {
        "colab": {
          "base_uri": "https://localhost:8080/"
        },
        "id": "aTt_5U7iQZ-B",
        "outputId": "5e89bc49-c410-456e-b585-9c050be6f6fb"
      },
      "outputs": [
        {
          "name": "stdout",
          "output_type": "stream",
          "text": [
            "введите координату x: 5\n",
            "введите координату y: 7\n",
            "1-я четверть\n"
          ]
        }
      ],
      "source": [
        "x = int(input(\"введите координату x: \"))\n",
        "y = int(input(\"введите координату y: \"))\n",
        "\n",
        "if x>0 and y>0:\n",
        "    print(\"1-я четверть\")\n",
        "elif x<0 and y>0:\n",
        "  print(\"2-я четверть\")\n",
        "elif x<0 and y<0:\n",
        "  print(\"3-я четверть\")\n",
        "elif x>0 and y<0:\n",
        "  print(\"4-я четверть\")\n",
        "# --------------\n",
        "# Пример вывода:\n",
        "#\n",
        "# Введите координату x: 5\n",
        "# Введите координату y: 7\n",
        "# 1-я четверть"
      ]
    },
    {
      "cell_type": "markdown",
      "metadata": {
        "id": "1wzjpGLzXTO7"
      },
      "source": [
        "#№ 4.2.6\n",
        "\n",
        "Даны вещественные числа a, b, c (a≠0).\n",
        "\n",
        "Решите уравнение ax^2+bx+c=0. При выводе значений оставьте 1 знак после запятой.\n"
      ]
    },
    {
      "cell_type": "code",
      "execution_count": null,
      "metadata": {
        "colab": {
          "base_uri": "https://localhost:8080/"
        },
        "id": "UbssNkVQXizO",
        "outputId": "1605ef84-1476-48c4-b1cf-29fe3c9f9713"
      },
      "outputs": [
        {
          "name": "stdout",
          "output_type": "stream",
          "text": [
            "a= 1\n",
            "b= 2\n",
            "c= 1\n",
            "x =  -1.0 -1.0\n"
          ]
        }
      ],
      "source": [
        "a = float(input('a= '))\n",
        "b = float(input('b= '))\n",
        "c = float(input('c= '))\n",
        "d = ((b**2)-(4*a*c))\n",
        "if d<0:\n",
        "    print('решений нет')\n",
        "elif d==0:\n",
        "    x1 = ((-1*b)/2*a)\n",
        "    print('x = ', x1, round(x1, 2))\n",
        "elif d>0:\n",
        "    x2 = (((-1*b)+(d**(1/2)))/2*a)\n",
        "    x1 = (((-1*b)-(d**(1/2)))/2*a)\n",
        "    print('x1 =',x1,'x2 =',x2, round(x1, 2), round(x2, 2))\n",
        "# --------------\n",
        "# Пример вывода:\n",
        "#\n",
        "# a = 1\n",
        "# b = 2\n",
        "# c = 3\n",
        "# Решений нет\n",
        "#\n",
        "# a = 1\n",
        "# b = 2\n",
        "# c = 1\n",
        "# x = -1.0\n",
        "#\n",
        "# a = 1\n",
        "# b = 3\n",
        "# c = -4\n",
        "# x1 = -4.0, x2 = 1.0"
      ]
    },
    {
      "cell_type": "markdown",
      "metadata": {
        "id": "8b2smxJoZRln"
      },
      "source": [
        "#№ 4.2.7\n",
        "\n",
        "Дана непустая последовательность целых чисел, оканчивающаяся нулем. Найти сумму и количество введенных чисел."
      ]
    },
    {
      "cell_type": "code",
      "execution_count": null,
      "metadata": {
        "colab": {
          "base_uri": "https://localhost:8080/"
        },
        "id": "2ir0lxftZc1q",
        "outputId": "e9047c85-cccc-440a-bdae-fc37c33d4a15"
      },
      "outputs": [
        {
          "name": "stdout",
          "output_type": "stream",
          "text": [
            "1\n",
            "2\n",
            "3\n",
            "4\n",
            "0\n",
            "Сумма =  10\n",
            "Количество =  4\n"
          ]
        }
      ],
      "source": [
        "nums_sum = 0\n",
        "nums_count = 0\n",
        "x = int(input()) \n",
        "while x != 0:\n",
        "    nums_count += 1\n",
        "    nums_sum += x\n",
        "    x = int(input())\n",
        "print(\"Сумма = \", nums_sum)\n",
        "print(\"Количество = \", nums_count)\n",
        "# --------------\n",
        "# Пример вывода:\n",
        "#\n",
        "# Введите 1-е число: 1\n",
        "# Введите 2-е число: 2\n",
        "# Введите 3-е число: 3\n",
        "# Введите 4-е число: 4\n",
        "# Введите 5-е число: 0\n",
        "# Сумма = 10\n",
        "# Количество = 4\n",
        "#\n",
        "# Введите 1-е число: 0\n",
        "# Сумма = 0\n",
        "# Количество = 0"
      ]
    },
    {
      "cell_type": "markdown",
      "metadata": {
        "id": "k5_osuk4bNFT"
      },
      "source": [
        "#№4.2.8\n",
        "\n",
        "Дано число n. Из чисел 0,5,10,15,20,25,... напечатать те, которые не превышают n."
      ]
    },
    {
      "cell_type": "code",
      "execution_count": null,
      "metadata": {
        "colab": {
          "base_uri": "https://localhost:8080/"
        },
        "id": "axR3Zepcu6hV",
        "outputId": "7fbe376c-4a5a-4d76-c6de-68f607652e54"
      },
      "outputs": [
        {
          "name": "stdout",
          "output_type": "stream",
          "text": [
            "n = 10\n",
            "0\n",
            "5\n",
            "10\n"
          ]
        }
      ],
      "source": [
        "n = int(input(\"n = \"))\n",
        "for i in range(0, n+1, 5): #лист старт стоп степ\n",
        "    print(i) \n",
        "# --------------\n",
        "# Пример вывода:\n",
        "#\n",
        "# n = 0\n",
        "# 0\n",
        "#\n",
        "# n = 10\n",
        "# 0\n",
        "# 5\n",
        "# 10\n",
        "#\n",
        "# n = 12\n",
        "# 0\n",
        "# 5\n",
        "# 10"
      ]
    },
    {
      "cell_type": "markdown",
      "metadata": {
        "id": "__4SFoRqu7Qx"
      },
      "source": [
        "#№ 4.2.9\n",
        "\n",
        "Дано вещественное число a. Найдите наименьшее натуральное n, для которого верно:\n",
        "![image.png](data:image/png;base64,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)"
      ]
    },
    {
      "cell_type": "code",
      "execution_count": 13,
      "metadata": {
        "colab": {
          "base_uri": "https://localhost:8080/"
        },
        "id": "Pd-nSfogvHFC",
        "outputId": "5f99d219-bd27-4dcd-8ffb-020796247c03"
      },
      "outputs": [
        {
          "output_type": "stream",
          "name": "stdout",
          "text": [
            "a = 1.5\n",
            "n = 3\n"
          ]
        }
      ],
      "source": [
        "a = float(input(\"a = \"))\n",
        "x_sum = 0\n",
        "n = 0\n",
        "while x_sum <= a:\n",
        "    n += 1\n",
        "    x_sum += 1/n\n",
        "print(\"n =\", n)\n",
        "# --------------\n",
        "# Пример вывода:\n",
        "#\n",
        "# a = 1.5\n",
        "# n = 3\n",
        "#\n",
        "# a = 2\n",
        "# n = 4"
      ]
    },
    {
      "cell_type": "markdown",
      "metadata": {
        "id": "Ln3hCQ-fvS7W"
      },
      "source": [
        "#№ 4.2.10\n",
        "\n",
        "Дано натуральное число. Определите сумму и количество его цифр."
      ]
    },
    {
      "cell_type": "code",
      "execution_count": null,
      "metadata": {
        "colab": {
          "base_uri": "https://localhost:8080/"
        },
        "id": "-R68OuCevYis",
        "outputId": "d4ee7040-fe42-43c3-bbbf-66af600fe743"
      },
      "outputs": [
        {
          "name": "stdout",
          "output_type": "stream",
          "text": [
            "n = 12345\n",
            "n = 12345\n",
            "Сумма = 15\n",
            "Количество = 5\n"
          ]
        }
      ],
      "source": [
        "n = int(input(\"n = \"))\n",
        "result = n #для вывода \n",
        "n_sum = 0 \n",
        "n_count = 0\n",
        "while n != 0:\n",
        "    n_sum += n % 10 #+= это  n_sum=n_sum+1\n",
        "    n_count += 1 \n",
        "    n = n//10\n",
        "print(f\"n = {result}\\nСумма = {n_sum}\\nКоличество = {n_count}\")\n",
        "# --------------\n",
        "# Пример вывода:\n",
        "#\n",
        "# n = 12345\n",
        "# Сумма = 15\n",
        "# Количество = 5"
      ]
    },
    {
      "cell_type": "markdown",
      "metadata": {
        "id": "3pOIY3oOvcpw"
      },
      "source": [
        "#№ 4.2.11\n",
        "\n",
        "Вывести в строку 10 первых натуральных чисел, оканчивающихся на цифру k, кратных числу s и находящихся в интервале, левая граница которого равна start."
      ]
    },
    {
      "cell_type": "code",
      "execution_count": 14,
      "metadata": {
        "colab": {
          "base_uri": "https://localhost:8080/"
        },
        "id": "O3D_WF3WvgsD",
        "outputId": "35b13afd-b20c-46c5-973c-6606c81a5358"
      },
      "outputs": [
        {
          "output_type": "stream",
          "name": "stdout",
          "text": [
            "start = 100\n",
            "k = 7\n",
            "s = 9\n",
            "117 207 297 387 477 567 657 747 837 927 \n"
          ]
        }
      ],
      "source": [
        "start = int(input(\"start = \"))\n",
        "k = int(input('k = '))\n",
        "s = int(input('s = '))\n",
        "n_count = \"\"\n",
        "while len(n_count.split()) != 10:\n",
        "    if start % 10 == k and start % s == 0:\n",
        "        n_count += f\"{start} \"\n",
        "    start += 1\n",
        "print(n_count)\n",
        "# --------------\n",
        "# Пример вывода:\n",
        "#\n",
        "# start = 100\n",
        "# k = 7\n",
        "# s = 9\n",
        "# 117 207 297 387 477 567 657 747 837 927"
      ]
    },
    {
      "cell_type": "markdown",
      "metadata": {
        "id": "1FU8aM0ivlOK"
      },
      "source": [
        "#№ 4.2.12\n",
        "\n",
        "Даны целые числа a и b (a может быть больше b). Напечатайте:\n",
        "\n",
        "• числа от минимального до максимального в строчку (разделяя пробелом);\n",
        "\n",
        "• числа от максимального до минимального «столбиком».\n",
        "\n"
      ]
    },
    {
      "cell_type": "code",
      "execution_count": null,
      "metadata": {
        "colab": {
          "base_uri": "https://localhost:8080/"
        },
        "id": "7i1SF9lUvq95",
        "outputId": "88fffeec-4d1e-43e2-b02d-604f80f2d32f"
      },
      "outputs": [
        {
          "output_type": "stream",
          "name": "stdout",
          "text": [
            "a = 1\n",
            "b = 5\n",
            "1 2 3 4 5 \n",
            "5\n",
            "4\n",
            "3\n",
            "2\n",
            "1\n"
          ]
        }
      ],
      "source": [
        "a = int(input('a = '))\n",
        "b = int(input('b = '))\n",
        "result = \"\"\n",
        "for i in range(a, b + 1):\n",
        "    result += f\"{i} \"\n",
        "print(result)\n",
        "for i in range(b, a - 1, -1):\n",
        "    print(i)\n",
        "# --------------\n",
        "# Пример вывода:\n",
        "#\n",
        "# a = 1\n",
        "# b = 5\n",
        "# 1 2 3 4 5\n",
        "# 5\n",
        "# 4\n",
        "# 3\n",
        "# 2\n",
        "# 1"
      ]
    },
    {
      "cell_type": "markdown",
      "metadata": {
        "id": "sAARSbWNvvgO"
      },
      "source": [
        "#№ 4.2.13\n",
        "\n",
        "Для введенных с клавиатуры положительных целых чисел a и b (a≤b) определите:\n",
        "\n",
        "• сумму всех целых чисел от a до b;\n",
        "\n",
        "• произведение всех целых чисел от a до b;\n",
        "\n",
        "• среднее арифметическое всех целых чисел от a до b;\n",
        "\n",
        "• среднее геометрическое нечетных чисел от a до b.\n",
        "\n",
        "Отрезок поиска включает сами числа a и b. При выводе вещественных результатов оставьте два знака после запятой."
      ]
    },
    {
      "cell_type": "code",
      "execution_count": null,
      "metadata": {
        "id": "2jXBAkbrv24X"
      },
      "outputs": [],
      "source": [
        " = # Удалите комментарий и допишите код\n",
        "b = # Удалите комментарий и допишите код\n",
        "\n",
        "# Удалите комментарий и допишите код\n",
        "\n",
        "print(\"Сумма =\", n_sum)\n",
        "print(\"Произведение =\", n_mult)\n",
        "print(\"Среднее арифметическое = {!!!}\".format(n_avg))\n",
        "print(\"Среднее геометрическое нечетных чисел = {!!!}\".format(n_avg_geom))\n",
        "\n",
        "# --------------\n",
        "# Пример вывода:\n",
        "#\n",
        "# a = 1\n",
        "# b = 5\n",
        "# Сумма = 15\n",
        "# Произведение = 120\n",
        "# Среднее арифметическое = 3.00\n",
        "# Среднее геометрическое нечетных чисел = 2.47\n",
        "\n"
      ]
    },
    {
      "cell_type": "markdown",
      "metadata": {
        "id": "DhtK3IG9v7f-"
      },
      "source": [
        "#№ 4.2.14\n",
        "\n",
        "Начав тренировки, лыжник в первый день пробежал s км. (s>0, вещественное число). Каждый следующий день он увеличивал пробег на p % (0<p≤100, вещественное число) от пробега предыдущего дня. Определите:\n",
        "\n",
        "• пробег лыжника за второй, третий, …, десятый день тренировок;\n",
        "\n",
        "• какой суммарный путь он пробежал за первые 10 дней тренировок.\n",
        "\n",
        "При выводе вещественных результатов оставьте один знак после запятой."
      ]
    },
    {
      "cell_type": "code",
      "execution_count": null,
      "metadata": {
        "id": "06vTAlikv_3K"
      },
      "outputs": [],
      "source": [
        "s = # Удалите комментарий и допишите код\n",
        "p = # Удалите комментарий и допишите код\n",
        "\n",
        "total = s\n",
        "# Удалите комментарий и допишите код\n",
        "\n",
        "print(\"Суммарный пробег: {:.1f} км.\".format(total))\n",
        "\n",
        "# --------------\n",
        "# Пример вывода:\n",
        "#\n",
        "# Пробег за 1-й день (км.) = 5\n",
        "# На сколько увеличивает пробег (%) = 10\n",
        "# Пробег за 2-й день: 5.5 км.\n",
        "# Пробег за 3-й день: 6.1 км.\n",
        "# Пробег за 4-й день: 6.7 км.\n",
        "# Пробег за 5-й день: 7.3 км.\n",
        "# Пробег за 6-й день: 8.1 км.\n",
        "# Пробег за 7-й день: 8.9 км.\n",
        "# Пробег за 8-й день: 9.7 км.\n",
        "# Пробег за 9-й день: 10.7 км.\n",
        "# Пробег за 10-й день: 11.8 км.\n",
        "# Суммарный пробег: 79.7 км.\n",
        "\n"
      ]
    },
    {
      "cell_type": "markdown",
      "metadata": {
        "id": "WfGeLzcAwEkZ"
      },
      "source": [
        "#№ 4.2.15\n",
        "\n",
        "Известна масса каждого предмета в кг., загружаемого в грузовик. Определить, возможна ли перевозка груза, если грузоподъемность грузовика равна p кг."
      ]
    },
    {
      "cell_type": "code",
      "execution_count": null,
      "metadata": {
        "id": "zHay25bCwK3S"
      },
      "outputs": [],
      "source": [
        "p = # Удалите комментарий и допишите код\n",
        "n = # Удалите комментарий и допишите код\n",
        "\n",
        "total = 0\n",
        "# Удалите комментарий и допишите код\n",
        "\n",
        "# --------------\n",
        "# Пример вывода:\n",
        "#\n",
        "# Грузоподъемность грузовика (кг.) = 10\n",
        "# Количество предметов = 2\n",
        "# Масса 1-го предмета (кг.) = 3\n",
        "# Масса 2-го предмета (кг.) = 3\n",
        "# Да\n",
        "\n"
      ]
    },
    {
      "cell_type": "markdown",
      "metadata": {
        "id": "AzLe9BGPwOJM"
      },
      "source": [
        "#№ 4.2.16\n",
        "\n",
        "В области несколько районов. Заданы площади, засеваемые пшеницей (га.), и средняя урожайность (ц/га) в каждом районе.\n",
        "\n",
        "Определите количество пшеницы, собранное по области. При выводе вещественных результатов оставьте один знак после запятой."
      ]
    },
    {
      "cell_type": "code",
      "execution_count": 16,
      "metadata": {
        "id": "C0XqOCM9wSbp",
        "colab": {
          "base_uri": "https://localhost:8080/"
        },
        "outputId": "3bfb2607-6da9-4d58-88f1-3a5f7863280f"
      },
      "outputs": [
        {
          "output_type": "stream",
          "name": "stdout",
          "text": [
            " колчество районов: 3\n",
            "площадь района (га): 4\n",
            "урожайность в районе (ц/га.): 2\n",
            "площадь района (га): 7\n",
            "урожайность в районе (ц/га.): 3\n",
            "площадь района (га): 9\n",
            "урожайность в районе (ц/га.): 4\n",
            "65.0\n"
          ]
        }
      ],
      "source": [
        "n = int(input(' колчество районов: '))\n",
        "\n",
        "total = list() \n",
        "for i in range(n):\n",
        "    s = float(input('площадь района (га): '))\n",
        "    p = float(input('урожайность в районе (ц/га.): ')) \n",
        "    j = p*s\n",
        "    total.append(j)\n",
        "\n",
        "print(round(sum(total), 1))\n",
        "\n",
        "# --------------\n",
        "# Пример вывода:\n",
        "#\n",
        "# Количество районов = 3\n",
        "# Площадь 1-го района (га) = 4\n",
        "# Урожайность в 1-м районе (ц/га.) = 2\n",
        "# Площадь 2-го района (га) = 7\n",
        "# Урожайность в 2-м районе (ц/га.) = 3\n",
        "# Площадь 3-го района (га) = 9\n",
        "# Урожайность в 3-м районе (ц/га.) = 4\n",
        "# Собрано пшеницы: 65.0 ц.\n",
        "\n"
      ]
    },
    {
      "cell_type": "markdown",
      "metadata": {
        "id": "8CyWD90cwXQR"
      },
      "source": [
        "#№ 4.2.17\n",
        "\n",
        "Решите задачу № 4.2.7, организовав бесконечный цикл, который бы прерывался при выполнении условия, используя оператор break.\n",
        "\n",
        "№ 4.2.7\n",
        "\n",
        "Дана непустая последовательность целых чисел, оканчивающаяся нулем. Найти сумму и количество введенных чисел."
      ]
    },
    {
      "cell_type": "code",
      "execution_count": null,
      "metadata": {
        "id": "6tm5m9m0wdWp"
      },
      "outputs": [],
      "source": [
        "nums_sum = 0  # сумма\n",
        "nums_count = 0  # количество\n",
        "\n",
        "# Удалите комментарий и допишите код\n",
        "\n",
        "# --------------\n",
        "# Пример вывода:\n",
        "#\n",
        "# Введите 1-е число: 1\n",
        "# Введите 2-е число: 2\n",
        "# Введите 3-е число: 3\n",
        "# Введите 4-е число: 4\n",
        "# Введите 5-е число: 0\n",
        "# Сумма = 10\n",
        "# Количество = 4\n",
        "#\n",
        "# Введите 1-е число: 0\n",
        "# Сумма = 0\n",
        "# Количество = 0\n",
        "\n"
      ]
    },
    {
      "cell_type": "markdown",
      "metadata": {
        "id": "W14QYdhzwkbO"
      },
      "source": [
        "#№ 4.2.18\n",
        "\n",
        "Предложение, введенное с клавиатуры, содержит слова из гласных и согласных букв кириллицы (регистр может быть различный), а также пробелы.\n",
        "\n",
        "Определите количество гласных и согласных букв в предложении. Для пропуска пробелов используйте оператор continue."
      ]
    },
    {
      "cell_type": "code",
      "execution_count": 1,
      "metadata": {
        "id": "ba_Viw_mwp9G",
        "colab": {
          "base_uri": "https://localhost:8080/"
        },
        "outputId": "265c7a62-7113-4ca0-c23d-11fc5509bdf9"
      },
      "outputs": [
        {
          "output_type": "stream",
          "name": "stdout",
          "text": [
            "Программирование\n",
            "Гласных - 7\n",
            "Согласных - 9\n",
            "Пробелы - 0\n"
          ]
        }
      ],
      "source": [
        "sentence = input()\n",
        "\n",
        "count_gl = 0\n",
        "count_sogl = 0\n",
        "probel = 0\n",
        "\n",
        "for i in sentence.lower():\n",
        "    if i in 'уеоаиюыёэ':\n",
        "        count_gl += 1\n",
        "    elif i == \" \":\n",
        "        probel += 1\n",
        "    else:\n",
        "        count_sogl += 1\n",
        "\n",
        "print(f\"Гласных - {count_gl}\\nСогласных - {count_sogl}\\nПробелы - {probel}\")\n",
        "# --------------\n",
        "# Пример вывода:\n",
        "#\n",
        "# Введите предложение: Программирование\n",
        "# Кол-во букв в предложении: гласных - 7, согласных - 9\n",
        "\n"
      ]
    },
    {
      "cell_type": "markdown",
      "metadata": {
        "id": "Q6tUH16fwuGc"
      },
      "source": [
        "#№ 4.2.19\n",
        "\n",
        "Выведите на экран (в строку) все целые числа от a до b, кратные некоторому числу c."
      ]
    },
    {
      "cell_type": "code",
      "execution_count": 8,
      "metadata": {
        "id": "3YdFNHTawyxw",
        "colab": {
          "base_uri": "https://localhost:8080/"
        },
        "outputId": "769de451-430b-4bc2-bc90-c18de4608f1f"
      },
      "outputs": [
        {
          "output_type": "stream",
          "name": "stdout",
          "text": [
            "1\n",
            "10\n",
            "2\n",
            "2 4 6 8 10 \n"
          ]
        }
      ],
      "source": [
        "a = int(input())\n",
        "b = int(input())\n",
        "c = int(input())\n",
        "\n",
        "string = \"\"\n",
        "\n",
        "for i in range(a, b+1):\n",
        "    if i % c == 0:\n",
        "        string += f\"{i} \"\n",
        "\n",
        "print(string)\n",
        "# --------------\n",
        "# Пример вывода:\n",
        "#\n",
        "# a = 1\n",
        "# b = 10\n",
        "# c = 2\n",
        "# 2 4 6 8 10\n",
        "\n"
      ]
    },
    {
      "cell_type": "markdown",
      "metadata": {
        "id": "amdym67tw4U8"
      },
      "source": [
        "#№ 4.2.20\n",
        "\n",
        "Выведите на экран (в строку) все трехзначные натуральные числа, сумма цифр которых равна целому числу n (0<n≤27)."
      ]
    },
    {
      "cell_type": "code",
      "execution_count": 6,
      "metadata": {
        "id": "X7tl60aAw74F",
        "colab": {
          "base_uri": "https://localhost:8080/"
        },
        "outputId": "81f30941-f839-4a03-e23b-8485ec0f4dd0"
      },
      "outputs": [
        {
          "output_type": "stream",
          "name": "stdout",
          "text": [
            "3\n",
            "102 111 120 201 210 300 \n"
          ]
        }
      ],
      "source": [
        "n = int(input())\n",
        "digit = 100\n",
        "result = \"\"\n",
        "while digit < 1000:\n",
        "\n",
        "    if digit % 10 + digit % 100 // 10 + digit // 100 == n:\n",
        "        result += f\"{digit} \"\n",
        "\n",
        "    digit += 1\n",
        "\n",
        "print(result)\n",
        "# --------------\n",
        "# Пример вывода:\n",
        "#\n",
        "# n = 3\n",
        "# 102 111 120 201 210 300\n",
        "\n"
      ]
    },
    {
      "cell_type": "markdown",
      "metadata": {
        "id": "uFBjYe7HxDJH"
      },
      "source": [
        "#№ 4.2.21\n",
        "\n",
        "Известно количество учеников в классе и их рост (см.); рост мальчиков условно задан отрицательными числами. Определите средний рост мальчиков и средний рост девочек.\n",
        "\n",
        "При выводе вещественных результатов оставьте один знак после запятой."
      ]
    },
    {
      "cell_type": "code",
      "execution_count": 5,
      "metadata": {
        "id": "A3fckGfpxH7l",
        "colab": {
          "base_uri": "https://localhost:8080/"
        },
        "outputId": "c7b25670-dab1-4890-ae17-f9287f89a015"
      },
      "outputs": [
        {
          "output_type": "stream",
          "name": "stdout",
          "text": [
            "5\n",
            "150\n",
            "-150\n",
            "160\n",
            "170\n",
            "180\n",
            "Средний рост мальчиков: 150.0\n",
            "Средний рост девочек: 165.0\n"
          ]
        }
      ],
      "source": [
        "r_sr_m = 0\n",
        "r_sr_d = 0\n",
        "n = int(input())\n",
        "count = 0\n",
        "for i in range(n):\n",
        "    height = int(input())\n",
        "\n",
        "    if height < 0:\n",
        "        r_sr_m += height * -1\n",
        "        count += 1\n",
        "    else:\n",
        "        r_sr_d += height\n",
        "\n",
        "print(f\"Средний рост мальчиков: {r_sr_m / count}\\nСредний рост девочек: {r_sr_d / (n - count)}\")\n",
        "# --------------\n",
        "# Пример вывода:\n",
        "#\n",
        "# n = 5\n",
        "# Рост 1-го ученика = 150\n",
        "# Рост 2-го ученика = -150\n",
        "# Рост 3-го ученика = 160\n",
        "# Рост 4-го ученика = 170\n",
        "# Рост 5-го ученика = 180\n",
        "# Средний рост мальчиков: 150.0\n",
        "# Средний рост девочек: 165.0\n",
        "\n"
      ]
    },
    {
      "cell_type": "markdown",
      "metadata": {
        "id": "kqK_X_YHxNtZ"
      },
      "source": [
        "#№ 4.2.22\n",
        "\n",
        "Даны n вещественных чисел. Определите максимальное и минимальное из них.\n",
        "\n",
        "При выводе вещественных результатов оставьте два знака после запятой\n"
      ]
    },
    {
      "cell_type": "code",
      "execution_count": 4,
      "metadata": {
        "id": "mOuOEgbIxYeQ",
        "colab": {
          "base_uri": "https://localhost:8080/"
        },
        "outputId": "32917fd0-e4de-43e7-dccd-811e8461bb76"
      },
      "outputs": [
        {
          "output_type": "stream",
          "name": "stdout",
          "text": [
            "4\n",
            "6.2\n",
            "3.8\n",
            "1.1\n",
            "9.66\n",
            "Максимум: 9.66\n",
            "Минимум: 1.10\n"
          ]
        }
      ],
      "source": [
        "n = int(input())\n",
        "\n",
        "a_max = -13451352353453\n",
        "a_min = 145345345345345\n",
        "\n",
        "for i in range(n):\n",
        "    digit = float(input())\n",
        "\n",
        "    if digit > a_max:\n",
        "        a_max = digit\n",
        "\n",
        "    if digit < a_min:\n",
        "        a_min = digit\n",
        "\n",
        "print(f\"Максимум: {a_max:.2f}\\nМинимум: {a_min:.2f}\")\n",
        "\n",
        "# --------------\n",
        "# Пример вывода:\n",
        "#\n",
        "# n = 4\n",
        "# 1-е число = 6.2\n",
        "# 2-е число = 3.8\n",
        "# 3-е число = 1.1\n",
        "# 4-е число = 9.66\n",
        "# Максимум: 9.66\n",
        "# Минимум: 1.10\n",
        "\n"
      ]
    },
    {
      "cell_type": "markdown",
      "metadata": {
        "id": "kDQ3DUHpxZWO"
      },
      "source": [
        "#№ 4.2.23\n",
        "\n",
        "Дано натуральное число n. Определите, является ли оно членом последовательности Фибоначчи.\n"
      ]
    },
    {
      "cell_type": "code",
      "execution_count": 3,
      "metadata": {
        "id": "X3OJzzAgxeKO",
        "colab": {
          "base_uri": "https://localhost:8080/"
        },
        "outputId": "53d8594d-78f5-4d3b-aa03-538b2ece18cf"
      },
      "outputs": [
        {
          "output_type": "stream",
          "name": "stdout",
          "text": [
            "7\n",
            "Не является\n"
          ]
        }
      ],
      "source": [
        "fib = [0, 1]\n",
        "\n",
        "for i in range(100):\n",
        "    fib.append(fib[-1]+fib[-2])\n",
        "\n",
        "print(\"Является\" if int(input()) in fib else \"Не является\")\n",
        "# --------------\n",
        "# Пример вывода:\n",
        "#\n",
        "# n = 7\n",
        "# Не является\n",
        "#\n",
        "# n = 8\n",
        "# Является\n",
        "\n",
        "\n"
      ]
    },
    {
      "cell_type": "markdown",
      "metadata": {
        "id": "kkTulAuhxjF5"
      },
      "source": [
        "#№ 4.2.24\n",
        "\n",
        "Дано n вещественных чисел. Определите, является ли последовательность упорядоченной по возрастанию. В случае отрицательного ответа выведите порядковый номер числа, нарушающего такую упорядоченность.\n"
      ]
    },
    {
      "cell_type": "code",
      "execution_count": null,
      "metadata": {
        "id": "Efp4A6EkxyOI"
      },
      "outputs": [],
      "source": [
        "n = # Удалите комментарий и допишите код\n",
        "\n",
        "# -1 означает, что последовательность упорядочена по возрастанию\n",
        "# Если это не так, 'index' меняется в цикле на индекс элемента,\n",
        "# нарушающего порядок\n",
        "index = -1\n",
        "\n",
        "prev = float(input(\"1-е число = \"))\n",
        "for # Удалите комментарий и допишите код\n",
        "# Удалите комментарий и допишите код\n",
        "\n",
        "# --------------\n",
        "# Пример вывода:\n",
        "#\n",
        "# n = 4\n",
        "# 1-е число = 2\n",
        "# 2-е число = 4.6\n",
        "# 3-е число = 6\n",
        "# 4-е число = 8.3\n",
        "# Является\n",
        "#\n",
        "# n = 3\n",
        "# 1-е число = 3\n",
        "# 2-е число = 3\n",
        "# 2\n",
        "\n",
        "\n"
      ]
    },
    {
      "cell_type": "markdown",
      "metadata": {
        "id": "bslcm5bLx2bp"
      },
      "source": [
        "#№ 4.2.25\n",
        "\n",
        "Выведите на экран таблицу умножения на n (2<n≤9) в виде:"
      ]
    },
    {
      "cell_type": "code",
      "execution_count": null,
      "metadata": {
        "id": "OBZvso-fx-76"
      },
      "outputs": [],
      "source": [
        "n = # Удалите комментарий и допишите код\n",
        "\n",
        "# Удалите комментарий и допишите код\n",
        "\n",
        "# --------------\n",
        "# Пример вывода:\n",
        "#\n",
        "# n = 5\n",
        "# 1 * 1 =  1  1 * 2 =  2  1 * 3 =  3  1 * 4 =  4  1 * 5 =  5\n",
        "# 2 * 1 =  2  2 * 2 =  4  2 * 3 =  6  2 * 4 =  8  2 * 5 = 10\n",
        "# 3 * 1 =  3  3 * 2 =  6  3 * 3 =  9  3 * 4 = 12  3 * 5 = 15\n",
        "# 4 * 1 =  4  4 * 2 =  8  4 * 3 = 12  4 * 4 = 16  4 * 5 = 20\n",
        "# 5 * 1 =  5  5 * 2 = 10  5 * 3 = 15  5 * 4 = 20  5 * 5 = 25\n",
        "\n"
      ]
    },
    {
      "cell_type": "markdown",
      "metadata": {
        "id": "HIbR1GYmyC98"
      },
      "source": [
        "#№ 4.2.26\n",
        "\n",
        "Выведите графическое изображения делимости чисел от 1 до n (значение n вводится с клавиатуры) - в каждой строке напечатайте очередное число и столько символов *, сколько делителей у этого числа.\n",
        "\n",
        "Например, если n=4, на экране должно быть напечатано:\n",
        "\n",
        "1 *\n",
        "\n",
        "2 **\n",
        "\n",
        "3 **\n",
        "\n",
        "4 ***"
      ]
    },
    {
      "cell_type": "code",
      "execution_count": 2,
      "metadata": {
        "id": "kXA7MF21yCSv",
        "colab": {
          "base_uri": "https://localhost:8080/"
        },
        "outputId": "de88e6b0-7623-4be5-ee3c-4e33987764bb"
      },
      "outputs": [
        {
          "output_type": "stream",
          "name": "stdout",
          "text": [
            "10\n",
            "1 *\n",
            "2 **\n",
            "3 **\n",
            "4 ***\n",
            "5 **\n",
            "6 ****\n",
            "7 **\n",
            "8 ****\n",
            "9 ***\n",
            "10 ****\n"
          ]
        }
      ],
      "source": [
        "n = int(input())\n",
        "\n",
        "for i in range(1, n + 1):\n",
        "    counter = 0\n",
        "\n",
        "    for j in range(1, i+1):\n",
        "        if i % j == 0:\n",
        "            counter += 1\n",
        "\n",
        "    print(f\"{i} {'*' * counter}\")\n",
        "# --------------\n",
        "# Пример вывода:\n",
        "#\n",
        "# n = 10\n",
        "# 1 *\n",
        "# 2 **\n",
        "# 3 **\n",
        "# 4 ***\n",
        "# 5 **\n",
        "# 6 ****\n",
        "# 7 **\n",
        "# 8 ****\n",
        "# 9 ***\n",
        "# 10 ****\n",
        "\n"
      ]
    },
    {
      "cell_type": "markdown",
      "metadata": {
        "id": "0wLCKdmPyKaR"
      },
      "source": [
        "#№ 4.2.27\n",
        "\n",
        "Выведите на экран (в строку) n первых простых чисел."
      ]
    },
    {
      "cell_type": "code",
      "execution_count": null,
      "metadata": {
        "id": "IR6V89lHyNzc"
      },
      "outputs": [],
      "source": [
        "n = # Удалите комментарий и допишите код\n",
        "\n",
        "# Удалите комментарий и допишите код\n",
        "\n",
        "# --------------\n",
        "# Пример вывода:\n",
        "#\n",
        "# n = 10\n",
        "# 2 3 5 7 11 13 17 19 23 29\n"
      ]
    },
    {
      "cell_type": "markdown",
      "metadata": {
        "id": "jDa27-JCyR32"
      },
      "source": [
        "#№ 4.2.28\n",
        "\n",
        "Составьте программу для нахождения всех натуральных решений уравнения x^2+y^2+z^2=k^2, где x,y,z∈[1,30], а k вводится с клавиатуры."
      ]
    },
    {
      "cell_type": "code",
      "execution_count": null,
      "metadata": {
        "id": "lnMR96g5yUf1"
      },
      "outputs": [],
      "source": [
        "k = # Удалите комментарий и допишите код\n",
        "\n",
        "# Удалите комментарий и допишите код\n",
        "\n",
        "# --------------\n",
        "# Пример вывода:\n",
        "#\n",
        "# k = 30\n",
        "# x =  4, y = 10, z = 28\n",
        "# x =  4, y = 20, z = 22\n",
        "# x =  4, y = 22, z = 20\n",
        "# x =  4, y = 28, z = 10\n",
        "# x = 10, y =  4, z = 28\n",
        "# x = 10, y = 20, z = 20\n",
        "# x = 10, y = 28, z =  4\n",
        "# x = 20, y =  4, z = 22\n",
        "# x = 20, y = 10, z = 20\n",
        "# x = 20, y = 20, z = 10\n",
        "# x = 20, y = 22, z =  4\n",
        "# x = 22, y =  4, z = 20\n",
        "# x = 22, y = 20, z =  4\n",
        "# x = 28, y =  4, z = 10\n",
        "# x = 28, y = 10, z =  4\n",
        "\n"
      ]
    }
  ],
  "metadata": {
    "colab": {
      "collapsed_sections": [],
      "provenance": [],
      "include_colab_link": true
    },
    "kernelspec": {
      "display_name": "Python 3",
      "name": "python3"
    },
    "language_info": {
      "name": "python"
    }
  },
  "nbformat": 4,
  "nbformat_minor": 0
}