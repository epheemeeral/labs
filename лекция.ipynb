{
  "nbformat": 4,
  "nbformat_minor": 0,
  "metadata": {
    "colab": {
      "provenance": [],
      "authorship_tag": "ABX9TyNWBbZa5L1Z6TgGELN6ZTaj",
      "include_colab_link": true
    },
    "kernelspec": {
      "name": "python3",
      "display_name": "Python 3"
    },
    "language_info": {
      "name": "python"
    }
  },
  "cells": [
    {
      "cell_type": "markdown",
      "metadata": {
        "id": "view-in-github",
        "colab_type": "text"
      },
      "source": [
        "<a href=\"https://colab.research.google.com/github/epheemeeral/labs/blob/main/%D0%BB%D0%B5%D0%BA%D1%86%D0%B8%D1%8F.ipynb\" target=\"_parent\"><img src=\"https://colab.research.google.com/assets/colab-badge.svg\" alt=\"Open In Colab\"/></a>"
      ]
    },
    {
      "cell_type": "markdown",
      "source": [
        "#1.3.1 Тип"
      ],
      "metadata": {
        "id": "iO1vxhysujBB"
      }
    },
    {
      "cell_type": "code",
      "execution_count": 2,
      "metadata": {
        "colab": {
          "base_uri": "https://localhost:8080/"
        },
        "id": "VVOUit6pubcR",
        "outputId": "51e82274-9186-41cf-9518-2cf94b4938d0"
      },
      "outputs": [
        {
          "output_type": "execute_result",
          "data": {
            "text/plain": [
              "str"
            ]
          },
          "metadata": {},
          "execution_count": 2
        }
      ],
      "source": [
        "s = 'Это строка'\n",
        "type(s)"
      ]
    },
    {
      "cell_type": "code",
      "source": [
        "x = 42 # Создание переменной целочисленного типа\n",
        "type(x)"
      ],
      "metadata": {
        "colab": {
          "base_uri": "https://localhost:8080/"
        },
        "id": "3DfE6b-2uxdP",
        "outputId": "37184bda-82df-45bc-a625-6fd2fb02388a"
      },
      "execution_count": 3,
      "outputs": [
        {
          "output_type": "execute_result",
          "data": {
            "text/plain": [
              "int"
            ]
          },
          "metadata": {},
          "execution_count": 3
        }
      ]
    },
    {
      "cell_type": "code",
      "source": [
        "'300' + 'cc'"
      ],
      "metadata": {
        "colab": {
          "base_uri": "https://localhost:8080/",
          "height": 37
        },
        "id": "0HI3XneOu4Vm",
        "outputId": "04ca500e-999b-4acb-e8ee-8a1958d93027"
      },
      "execution_count": 4,
      "outputs": [
        {
          "output_type": "execute_result",
          "data": {
            "text/plain": [
              "'300cc'"
            ],
            "application/vnd.google.colaboratory.intrinsic+json": {
              "type": "string"
            }
          },
          "metadata": {},
          "execution_count": 4
        }
      ]
    },
    {
      "cell_type": "code",
      "source": [
        "300 + 400"
      ],
      "metadata": {
        "colab": {
          "base_uri": "https://localhost:8080/"
        },
        "id": "4lng9MaXvAea",
        "outputId": "4f47a405-435e-43ff-b0ed-d5360a1ceccf"
      },
      "execution_count": 5,
      "outputs": [
        {
          "output_type": "execute_result",
          "data": {
            "text/plain": [
              "700"
            ]
          },
          "metadata": {},
          "execution_count": 5
        }
      ]
    },
    {
      "cell_type": "code",
      "source": [
        "int('300') + 400"
      ],
      "metadata": {
        "colab": {
          "base_uri": "https://localhost:8080/"
        },
        "id": "stxlNLr2vFXM",
        "outputId": "e4feb6d8-d6f7-4875-be00-1d46da7d896c"
      },
      "execution_count": 6,
      "outputs": [
        {
          "output_type": "execute_result",
          "data": {
            "text/plain": [
              "700"
            ]
          },
          "metadata": {},
          "execution_count": 6
        }
      ]
    },
    {
      "cell_type": "markdown",
      "source": [
        "#1.3.2 Уникальный идентификатор"
      ],
      "metadata": {
        "id": "xaP_BwO8vLpR"
      }
    },
    {
      "cell_type": "code",
      "source": [
        "y = 2.5 \n",
        "id(y) #уникальный идентификатор - адрес объекта в памяти"
      ],
      "metadata": {
        "colab": {
          "base_uri": "https://localhost:8080/"
        },
        "id": "-r_QSVKfvbY0",
        "outputId": "b288e5f6-a1c1-4d92-dbb3-003ca18e34b5"
      },
      "execution_count": 8,
      "outputs": [
        {
          "output_type": "execute_result",
          "data": {
            "text/plain": [
              "140475982821872"
            ]
          },
          "metadata": {},
          "execution_count": 8
        }
      ]
    },
    {
      "cell_type": "code",
      "source": [
        "z = 2.5\n",
        "id(z) #уникальный идентификатор - адрес объекта в памяти"
      ],
      "metadata": {
        "colab": {
          "base_uri": "https://localhost:8080/"
        },
        "id": "6XXbg7nZvgr4",
        "outputId": "12bddaf2-a151-4373-c23f-261d92b55d45"
      },
      "execution_count": 9,
      "outputs": [
        {
          "output_type": "execute_result",
          "data": {
            "text/plain": [
              "140475982822992"
            ]
          },
          "metadata": {},
          "execution_count": 9
        }
      ]
    },
    {
      "cell_type": "markdown",
      "source": [
        "#1.3.3 Содержимое объекта: данные и атрибуты"
      ],
      "metadata": {
        "id": "zHOZORKbvq-e"
      }
    },
    {
      "cell_type": "code",
      "source": [
        "x = 42\n",
        "x"
      ],
      "metadata": {
        "colab": {
          "base_uri": "https://localhost:8080/"
        },
        "id": "7YhLcAvSvx12",
        "outputId": "8d5bbc47-b50f-404e-f9bf-191c0bde3610"
      },
      "execution_count": 13,
      "outputs": [
        {
          "output_type": "execute_result",
          "data": {
            "text/plain": [
              "42"
            ]
          },
          "metadata": {},
          "execution_count": 13
        }
      ]
    },
    {
      "cell_type": "code",
      "source": [
        "x.imag #imag (мнимая часть) - атрибут x, содержащий вспомогательную информацию"
      ],
      "metadata": {
        "colab": {
          "base_uri": "https://localhost:8080/"
        },
        "id": "CvT50GX9w04_",
        "outputId": "6512623f-254f-46d9-baec-7917339bae8c"
      },
      "execution_count": 14,
      "outputs": [
        {
          "output_type": "execute_result",
          "data": {
            "text/plain": [
              "0"
            ]
          },
          "metadata": {},
          "execution_count": 14
        }
      ]
    },
    {
      "cell_type": "code",
      "source": [
        "x.__class__ #__class__(тип) - атрибут x, содержащий вспомогательную информацию"
      ],
      "metadata": {
        "colab": {
          "base_uri": "https://localhost:8080/"
        },
        "id": "gF80S7N6wGav",
        "outputId": "25262257-c881-454b-d187-cf2f06c6609c"
      },
      "execution_count": 12,
      "outputs": [
        {
          "output_type": "execute_result",
          "data": {
            "text/plain": [
              "int"
            ]
          },
          "metadata": {},
          "execution_count": 12
        }
      ]
    },
    {
      "cell_type": "markdown",
      "source": [
        "#1.3.4 Методы"
      ],
      "metadata": {
        "id": "Huw-eTn0x4W-"
      }
    },
    {
      "cell_type": "markdown",
      "source": [
        "1)\n"
      ],
      "metadata": {
        "id": "blqQxi2z0Nu5"
      }
    },
    {
      "cell_type": "code",
      "source": [
        "x = ['foo', 'bar']\n",
        "'''\n",
        "Функция callable() возвращает True , если указанный объект вызываемый, в противном случае она возвращает значение False.\n",
        "'''\n",
        "callable(x.append) #append - атрибут x, который может вызываться как функция (метод - функция, связанная с объектом)"
      ],
      "metadata": {
        "colab": {
          "base_uri": "https://localhost:8080/"
        },
        "id": "Czu3VzvXx8oI",
        "outputId": "29c150da-e47e-4814-b777-33f28f41a367"
      },
      "execution_count": 18,
      "outputs": [
        {
          "output_type": "execute_result",
          "data": {
            "text/plain": [
              "True"
            ]
          },
          "metadata": {},
          "execution_count": 18
        }
      ]
    },
    {
      "cell_type": "code",
      "source": [
        "callable(x.__doc__)"
      ],
      "metadata": {
        "colab": {
          "base_uri": "https://localhost:8080/"
        },
        "id": "v_q97lCiyO9V",
        "outputId": "eda1cda0-0140-4c98-cf47-9d915e069502"
      },
      "execution_count": 16,
      "outputs": [
        {
          "output_type": "execute_result",
          "data": {
            "text/plain": [
              "False"
            ]
          },
          "metadata": {},
          "execution_count": 16
        }
      ]
    },
    {
      "cell_type": "markdown",
      "source": [
        "2)"
      ],
      "metadata": {
        "id": "OzEY6LK80RuF"
      }
    },
    {
      "cell_type": "code",
      "source": [
        "x = ['a', 'b']\n",
        "x.append('c')\n",
        "print(x)"
      ],
      "metadata": {
        "colab": {
          "base_uri": "https://localhost:8080/"
        },
        "id": "sTRSBZCvzvBd",
        "outputId": "89861d71-3fdc-4337-bd39-6f48f6ab83cb"
      },
      "execution_count": 22,
      "outputs": [
        {
          "output_type": "stream",
          "name": "stdout",
          "text": [
            "['a', 'b', 'c']\n"
          ]
        }
      ]
    },
    {
      "cell_type": "markdown",
      "source": [
        "3)"
      ],
      "metadata": {
        "id": "0qKRxIAC0UdT"
      }
    },
    {
      "cell_type": "code",
      "source": [
        "s = 'Thisisastring'\n",
        "s.upper()"
      ],
      "metadata": {
        "colab": {
          "base_uri": "https://localhost:8080/",
          "height": 37
        },
        "id": "H6wJDY3Uzx5n",
        "outputId": "2c3d5541-6296-4acb-ff42-64396c1aa9ce"
      },
      "execution_count": 25,
      "outputs": [
        {
          "output_type": "execute_result",
          "data": {
            "text/plain": [
              "'THISISASTRING'"
            ],
            "application/vnd.google.colaboratory.intrinsic+json": {
              "type": "string"
            }
          },
          "metadata": {},
          "execution_count": 25
        }
      ]
    },
    {
      "cell_type": "code",
      "source": [
        "s.lower()"
      ],
      "metadata": {
        "colab": {
          "base_uri": "https://localhost:8080/",
          "height": 37
        },
        "id": "PRu1Rim90D9o",
        "outputId": "7490f914-d8ef-4528-c68c-530c43fb7fd5"
      },
      "execution_count": 26,
      "outputs": [
        {
          "output_type": "execute_result",
          "data": {
            "text/plain": [
              "'thisisastring'"
            ],
            "application/vnd.google.colaboratory.intrinsic+json": {
              "type": "string"
            }
          },
          "metadata": {},
          "execution_count": 26
        }
      ]
    },
    {
      "cell_type": "code",
      "source": [
        "s.replace('This', 'That')"
      ],
      "metadata": {
        "colab": {
          "base_uri": "https://localhost:8080/",
          "height": 37
        },
        "id": "blOUDutR0Joq",
        "outputId": "baa2d350-0c74-4723-c98e-81e68e015bd1"
      },
      "execution_count": 27,
      "outputs": [
        {
          "output_type": "execute_result",
          "data": {
            "text/plain": [
              "'Thatisastring'"
            ],
            "application/vnd.google.colaboratory.intrinsic+json": {
              "type": "string"
            }
          },
          "metadata": {},
          "execution_count": 27
        }
      ]
    },
    {
      "cell_type": "markdown",
      "source": [
        "4)"
      ],
      "metadata": {
        "id": "o3pW0KwE0eAT"
      }
    },
    {
      "cell_type": "code",
      "source": [
        "x = ['a', 'b']\n",
        "x[0] = 'aa'\n",
        "print(x)\n",
        "\n",
        "# Присвоение элемента с помощью обозначения квадратных скобок"
      ],
      "metadata": {
        "colab": {
          "base_uri": "https://localhost:8080/"
        },
        "id": "CH4r2ngx0ewO",
        "outputId": "a32099dd-d3ce-4d1a-a3fe-6a77dacb80cf"
      },
      "execution_count": 33,
      "outputs": [
        {
          "output_type": "stream",
          "name": "stdout",
          "text": [
            "['aa', 'b']\n"
          ]
        }
      ]
    },
    {
      "cell_type": "code",
      "source": [
        "x = ['a', 'b']\n",
        "x.__setitem__(0, 'aa') # Equivalent to x[0] = 'aa' \n",
        "#метод __setitem_\n",
        "print(x)"
      ],
      "metadata": {
        "colab": {
          "base_uri": "https://localhost:8080/"
        },
        "id": "ncWNjluT0okX",
        "outputId": "1afbcd4a-639a-401e-aebd-619d59a9d406"
      },
      "execution_count": 32,
      "outputs": [
        {
          "output_type": "stream",
          "name": "stdout",
          "text": [
            "['aa', 'b']\n"
          ]
        }
      ]
    },
    {
      "cell_type": "markdown",
      "source": [
        "#1.4 Определение собственных классов и объектов в Python"
      ],
      "metadata": {
        "id": "f0NHbu6N1vSb"
      }
    },
    {
      "cell_type": "code",
      "source": [
        "class Car: #пример объявления класса с минимально возможным функционалом\n",
        "  pass"
      ],
      "metadata": {
        "id": "RfjOtWLg1su6"
      },
      "execution_count": 35,
      "outputs": []
    },
    {
      "cell_type": "markdown",
      "source": [
        "#1.4.1 Определение собственных объектов"
      ],
      "metadata": {
        "id": "NjUg9EhV2Boa"
      }
    },
    {
      "cell_type": "code",
      "source": [
        "# <имя_объекта> = <имя_класса>()\n",
        "car_object = Car() #объект класса Car"
      ],
      "metadata": {
        "id": "h_jk5GyO2EnR"
      },
      "execution_count": 36,
      "outputs": []
    },
    {
      "cell_type": "markdown",
      "source": [
        "#1.4.2.2 Пользовательские атрибуты"
      ],
      "metadata": {
        "id": "IWU1NEh33fGe"
      }
    },
    {
      "cell_type": "code",
      "source": [
        "class Car:\n",
        "    color = 'Grey'\n",
        "    def drive(self):\n",
        "        pass\n",
        "    def price(self):\n",
        "      pass\n",
        "\n",
        "#пользовательскими атрибутами являются drive, price"
      ],
      "metadata": {
        "id": "FblJN6pD3hB6"
      },
      "execution_count": 38,
      "outputs": []
    },
    {
      "cell_type": "code",
      "source": [
        "car_object = Car()\n",
        "dir(car_object) #список атрибутов класса / объекта можно получить с помощью команды dir()\n",
        "['__class__',\n",
        " '__delattr__',\n",
        " '__dict__',\n",
        " '__dir__',\n",
        " '__doc__',\n",
        " '__init__',\n",
        " '__init_subclass__',\n",
        " 'color',\n",
        " 'drive',\n",
        " 'price'] "
      ],
      "metadata": {
        "colab": {
          "base_uri": "https://localhost:8080/"
        },
        "id": "vKXl7FIF33Zp",
        "outputId": "63f9fd86-55b4-4069-d9d4-f0a3e4c26760"
      },
      "execution_count": 44,
      "outputs": [
        {
          "output_type": "execute_result",
          "data": {
            "text/plain": [
              "['__class__',\n",
              " '__delattr__',\n",
              " '__dict__',\n",
              " '__dir__',\n",
              " '__doc__',\n",
              " '__init__',\n",
              " '__init_subclass__',\n",
              " 'color',\n",
              " 'drive',\n",
              " 'price']"
            ]
          },
          "metadata": {},
          "execution_count": 44
        }
      ]
    },
    {
      "cell_type": "markdown",
      "source": [
        "#1.4.3.1 Статические поля (переменные или свойства класса)"
      ],
      "metadata": {
        "id": "ZT1dVHkq4pSb"
      }
    },
    {
      "cell_type": "code",
      "source": [
        "class Car:\n",
        "  default_color = 'Grey' \n",
        "  default_model = 'BMW'\n",
        "  def drive(self):\n",
        "    pass\n",
        "  def price(self):\n",
        "    pass"
      ],
      "metadata": {
        "id": "KjuqBtcj4qol"
      },
      "execution_count": 45,
      "outputs": []
    },
    {
      "cell_type": "code",
      "source": [
        "x = Car()\n",
        "x.default_color"
      ],
      "metadata": {
        "colab": {
          "base_uri": "https://localhost:8080/",
          "height": 37
        },
        "id": "7n4svb0S5Xsv",
        "outputId": "6a4ef7bf-02d4-448b-d5f8-bb989b263c16"
      },
      "execution_count": 46,
      "outputs": [
        {
          "output_type": "execute_result",
          "data": {
            "text/plain": [
              "'Grey'"
            ],
            "application/vnd.google.colaboratory.intrinsic+json": {
              "type": "string"
            }
          },
          "metadata": {},
          "execution_count": 46
        }
      ]
    },
    {
      "cell_type": "code",
      "source": [
        "x.default_model"
      ],
      "metadata": {
        "colab": {
          "base_uri": "https://localhost:8080/",
          "height": 37
        },
        "id": "o97iaCdE5e35",
        "outputId": "ab1e4e4c-f176-4787-e0fa-81edbefce2ce"
      },
      "execution_count": 47,
      "outputs": [
        {
          "output_type": "execute_result",
          "data": {
            "text/plain": [
              "'BMW'"
            ],
            "application/vnd.google.colaboratory.intrinsic+json": {
              "type": "string"
            }
          },
          "metadata": {},
          "execution_count": 47
        }
      ]
    },
    {
      "cell_type": "markdown",
      "source": [
        "#1.4.3.2 Динамические поля (переменные или свойства экземпляра класса)"
      ],
      "metadata": {
        "id": "ers6GPWC5xa3"
      }
    },
    {
      "cell_type": "code",
      "source": [
        "class Car:\n",
        "# Статические поля (переменные класса)\n",
        "  default_color = 'Grey' \n",
        "  default_model = 'BMW'\n",
        "  def __init__(self, color, model):\n",
        "# Динамические поля (переменные объекта) self.color = color\n",
        "    self.color = color\n",
        "    self.model = model"
      ],
      "metadata": {
        "id": "bfT2hNRy5yym"
      },
      "execution_count": 49,
      "outputs": []
    },
    {
      "cell_type": "code",
      "source": [
        "x = Car('Blue', 'Mercedes')\n",
        "x.color"
      ],
      "metadata": {
        "colab": {
          "base_uri": "https://localhost:8080/",
          "height": 37
        },
        "id": "FGmkeVUq6axO",
        "outputId": "e11051df-67ac-48f8-874c-a37a3580d420"
      },
      "execution_count": 51,
      "outputs": [
        {
          "output_type": "execute_result",
          "data": {
            "text/plain": [
              "'Blue'"
            ],
            "application/vnd.google.colaboratory.intrinsic+json": {
              "type": "string"
            }
          },
          "metadata": {},
          "execution_count": 51
        }
      ]
    },
    {
      "cell_type": "code",
      "source": [
        "x.model"
      ],
      "metadata": {
        "colab": {
          "base_uri": "https://localhost:8080/",
          "height": 37
        },
        "id": "yztU6_EF6vOY",
        "outputId": "2e5aecfb-7dd1-4200-91a8-394583f8c096"
      },
      "execution_count": 52,
      "outputs": [
        {
          "output_type": "execute_result",
          "data": {
            "text/plain": [
              "'Mercedes'"
            ],
            "application/vnd.google.colaboratory.intrinsic+json": {
              "type": "string"
            }
          },
          "metadata": {},
          "execution_count": 52
        }
      ]
    },
    {
      "cell_type": "markdown",
      "source": [
        "# 1.4.4.1 Методы экземпляра класса"
      ],
      "metadata": {
        "id": "98x0oebX7CSq"
      }
    },
    {
      "cell_type": "code",
      "source": [
        "class Car:\n",
        "  def __init__(self, color, model): \n",
        "    self.color = color\n",
        "    self.model = model\n",
        "# Методы экземпляра класса\n",
        "# Первый параметр метода - self \n",
        "  def check_sim(self, country):\n",
        "    if self.model == 'BMW' and country == 'Germany':\n",
        "      print('Your car is good')"
      ],
      "metadata": {
        "id": "OUk-_JB57DgR"
      },
      "execution_count": 53,
      "outputs": []
    },
    {
      "cell_type": "code",
      "source": [
        "x = Car('Blue', 'BMW')\n",
        "x.check_sim('Germany')"
      ],
      "metadata": {
        "colab": {
          "base_uri": "https://localhost:8080/"
        },
        "id": "fbUrB1ZC7YGd",
        "outputId": "a7f468a0-0b3f-4250-dc9c-a742563930bc"
      },
      "execution_count": 55,
      "outputs": [
        {
          "output_type": "stream",
          "name": "stdout",
          "text": [
            "Your car is good\n"
          ]
        }
      ]
    },
    {
      "cell_type": "markdown",
      "source": [
        " # 1.4.4.2 Статические методы"
      ],
      "metadata": {
        "id": "cbwFytet9_Z0"
      }
    },
    {
      "cell_type": "code",
      "source": [
        "import hashlib \n",
        "class Car:\n",
        "# Статический метод справочного характера \n",
        "# Возвращает хэш по номеру модели\n",
        "# self внутри метода отсутствует \n",
        "  @staticmethod\n",
        "  def model_hash(model):\n",
        "    if model == 'BMW':\n",
        "      return 'the machine series is not defined in' \n",
        "    elif model == 'BMW X6':\n",
        "      return hash(model) \n",
        "    else:\n",
        "      return 'The manufacturer is not defined' \n",
        "# Обычный метод\n",
        "  def check_model(self, model):\n",
        "    pass"
      ],
      "metadata": {
        "id": "vTOkrQsv-Gk2"
      },
      "execution_count": 71,
      "outputs": []
    },
    {
      "cell_type": "code",
      "source": [
        "x = Car()\n",
        "x.check_model('X6')"
      ],
      "metadata": {
        "id": "cVvucxsHAPae"
      },
      "execution_count": 77,
      "outputs": []
    },
    {
      "cell_type": "code",
      "source": [
        "x.model_hash('BMW X6')"
      ],
      "metadata": {
        "colab": {
          "base_uri": "https://localhost:8080/"
        },
        "id": "FFBImStHAdqL",
        "outputId": "ee15e234-dc53-4c0b-fd2f-96ccbc752d8f"
      },
      "execution_count": 74,
      "outputs": [
        {
          "output_type": "execute_result",
          "data": {
            "text/plain": [
              "1428795097444104846"
            ]
          },
          "metadata": {},
          "execution_count": 74
        }
      ]
    },
    {
      "cell_type": "code",
      "source": [
        "x.model_hash('BMW')"
      ],
      "metadata": {
        "colab": {
          "base_uri": "https://localhost:8080/",
          "height": 37
        },
        "id": "t38K3dLZAsH9",
        "outputId": "d742b884-a93f-4dc4-b299-e3beb3390dfb"
      },
      "execution_count": 78,
      "outputs": [
        {
          "output_type": "execute_result",
          "data": {
            "text/plain": [
              "'the machine series is not defined in'"
            ],
            "application/vnd.google.colaboratory.intrinsic+json": {
              "type": "string"
            }
          },
          "metadata": {},
          "execution_count": 78
        }
      ]
    },
    {
      "cell_type": "markdown",
      "source": [
        "#1.4.4.3 Методы класса"
      ],
      "metadata": {
        "id": "TdbZAa7YA5Mb"
      }
    },
    {
      "cell_type": "code",
      "source": [
        "class Car:\n",
        "    def __init__(self, color, model):\n",
        "        self.color = color\n",
        "        self.model = model\n",
        "        self.price = price\n",
        "    # Метод класса\n",
        "    # Принимает 1) ссылку на класс Car и 2) цвет в качестве параметров\n",
        "    # Создает специфический объект класса Car(особенность объекта в том,\n",
        "    # что это модель от завода изготовителя)\n",
        "    # При этом вызывается инициализатор класса Car\n",
        "    # которому в качестве аргументов передается цвет и модель,\n",
        "    # соответствующую оригинальной машины\n",
        "    @classmethod\n",
        "    def origin_car(cls, color):\n",
        "        origin_car = cls(color, 'Origin Car from Germany', None)\n",
        "        return origin_car\n",
        "\n",
        "\n",
        "    # Статический метод\n",
        "    @staticmethod\n",
        "    def model_hash(model):\n",
        "        if model == 'BMW':\n",
        "            return 'the machine series is not defined in'\n",
        "        elif model == 'BMW X6':\n",
        "            return hash(model)\n",
        "        else:\n",
        "            return 'The manufacturer is not defined'\n",
        "\n",
        "\n",
        "    # Обычный метод\n",
        "        def check_model(self, model):\n",
        "            pass "
      ],
      "metadata": {
        "id": "7b1TyEgHA9GJ"
      },
      "execution_count": 79,
      "outputs": []
    },
    {
      "cell_type": "markdown",
      "source": [
        "#1.4.5 Метод init()"
      ],
      "metadata": {
        "id": "Z8pfniMeBkFN"
      }
    },
    {
      "cell_type": "code",
      "source": [
        "class student:\n",
        "    def __init__(self, kurs, idl):\n",
        "        self.kurs = kurs\n",
        "        self.id =idl\n",
        "\n",
        "idl = input(' Введите идентификатор студента: ')\n",
        "kurs = input(' Введите курс студента : ')\n",
        "\n",
        "studentl = student ( kurs, idl ) # создание экземпляра\n",
        "print ('Курс :', studentl.kurs, studentl.id, sep = ' ')\n",
        "student2 = studentl\n",
        "idl = input(' В ведите идентификатор 2-го студента: ')\n",
        "student2.id =idl\n",
        "print('Курс: 1', studentl.kurs, studentl.id, sep = ' ')\n",
        "kurs=input( 'Введите новый курс студентов: ')\n",
        "studentl.kurs = kurs\n",
        "\n",
        "print('Новый курс : ', studentl.kurs , 'Идентификатор:',\n",
        "studentl.id, sep = ' ')\n",
        "print('Новый курс : ', student2.kurs, 'Идентификато2р:',\n",
        "student2.id, sep = ' ') "
      ],
      "metadata": {
        "colab": {
          "base_uri": "https://localhost:8080/"
        },
        "id": "T-blsUk0BleA",
        "outputId": "f1a7dd25-150d-46c9-9074-b78dbc6eb3d8"
      },
      "execution_count": 81,
      "outputs": [
        {
          "output_type": "stream",
          "name": "stdout",
          "text": [
            " Введите идентификатор студента: 1\n",
            " Введите курс студента : 1\n",
            "Курс : 1 1\n",
            " В ведите идентификатор 2-го студента: 2\n",
            "Курс: 1 1 2\n",
            "Введите новый курс студентов: 2\n",
            "Новый курс :  2 Идентификатор: 2\n",
            "Новый курс :  2 Идентификато2р: 2\n"
          ]
        }
      ]
    },
    {
      "cell_type": "markdown",
      "source": [
        "#Пример Класс Consumer"
      ],
      "metadata": {
        "id": "FSotz_HoB_vT"
      }
    },
    {
      "cell_type": "code",
      "source": [
        "def earn(w, y):\n",
        "    \"Потребитель с первоначальным достатком w зарабатывает y\"\n",
        "    return w+y\n",
        "def spend(w, x):\n",
        "    \" Потребитель с начальным достатком w тратит x \"\n",
        "    new_wealth = w - x\n",
        "    if new_wealth < 0:\n",
        "        print(\"Insufficient funds\")\n",
        "    else:\n",
        "        return new_wealth "
      ],
      "metadata": {
        "id": "jZO4LldxCBQb"
      },
      "execution_count": 82,
      "outputs": []
    },
    {
      "cell_type": "code",
      "source": [
        "w0=100\n",
        "w1=earn(w0,10)\n",
        "w2=spend(w1,20)\n",
        "w3=earn(w2,10)\n",
        "w4=spend(w3,20)\n",
        "print(\"w0,w1,w2,w3,w4 = \", w0,w1,w2,w3,w4) \n",
        "\n",
        "w5 = spend(w4, 90)  "
      ],
      "metadata": {
        "colab": {
          "base_uri": "https://localhost:8080/"
        },
        "id": "jFVIJWpZCGyC",
        "outputId": "ea72d84f-812a-4da9-bff0-6495cad877a0"
      },
      "execution_count": 84,
      "outputs": [
        {
          "output_type": "stream",
          "name": "stdout",
          "text": [
            "w0,w1,w2,w3,w4 =  100 110 90 100 80\n",
            "Insufficient funds\n"
          ]
        }
      ]
    },
    {
      "cell_type": "code",
      "source": [
        "class Consumer:\n",
        "    def __init__(self, w):\n",
        "        \"Initialize consumer with w dollars of wealth\"\n",
        "        self.wealth = w\n",
        "    def earn(self, y):\n",
        "        \"The consumer earns y dollars\"\n",
        "        self.wealth += y\n",
        "    def spend(self, x):\n",
        "        \"The consumer spends x dollars if feasible\"\n",
        "        new_wealth = self.wealth - x\n",
        "        if new_wealth < 0:\n",
        "            print(\"Insufficent funds\")\n",
        "        else:\n",
        "            self.wealth = new_wealth "
      ],
      "metadata": {
        "id": "5y480qpmCbZm"
      },
      "execution_count": 85,
      "outputs": []
    },
    {
      "cell_type": "code",
      "source": [
        "c1 = Consumer(10) # Create instance with initial wealth\n",
        "10\n",
        "c1.spend(5)\n",
        "print(\"c1 = \", c1.wealth)\n",
        "c1.earn(15)\n",
        "print(\"c1 = \", c1.wealth)\n",
        "c1.spend(100)\n",
        "print(\"c1 = \", c1.wealth)\n",
        "c1 = Consumer(10)\n",
        "c2 = Consumer(12)\n",
        "c2.spend(4)\n",
        "print(\"c1 = \", c1.wealth)\n",
        "c2.wealth\n",
        "print(\"c2 = \", c2.wealth)\n",
        "\n",
        "print(c1.__dict__)\n",
        "print(c2.__dict__)"
      ],
      "metadata": {
        "colab": {
          "base_uri": "https://localhost:8080/"
        },
        "id": "mwLCO14nCei4",
        "outputId": "c44cf983-04e9-4102-aea9-41a3fdced312"
      },
      "execution_count": 86,
      "outputs": [
        {
          "output_type": "stream",
          "name": "stdout",
          "text": [
            "c1 =  5\n",
            "c1 =  20\n",
            "Insufficent funds\n",
            "c1 =  20\n",
            "c1 =  10\n",
            "c2 =  8\n",
            "{'wealth': 10}\n",
            "{'wealth': 8}\n"
          ]
        }
      ]
    },
    {
      "cell_type": "code",
      "source": [
        "c1 = Consumer(10)\n",
        "c1.earn(10)\n",
        "c1.wealth"
      ],
      "metadata": {
        "colab": {
          "base_uri": "https://localhost:8080/"
        },
        "id": "MZINmdVfL1e6",
        "outputId": "128088ab-c1a4-4d91-c020-1980d9c2c71b"
      },
      "execution_count": 87,
      "outputs": [
        {
          "output_type": "execute_result",
          "data": {
            "text/plain": [
              "20"
            ]
          },
          "metadata": {},
          "execution_count": 87
        }
      ]
    },
    {
      "cell_type": "code",
      "source": [
        "c1.earn(10)\n",
        "Consumer.earn(c1, 10) # Equalent to upper code"
      ],
      "metadata": {
        "id": "3gmp1k0ML4v9"
      },
      "execution_count": 88,
      "outputs": []
    },
    {
      "cell_type": "code",
      "source": [
        "def earn(self, y):\n",
        "    \"The consumer earns y dollars\"\n",
        "    self.wealth += y "
      ],
      "metadata": {
        "id": "5E8XM8xbMCfH"
      },
      "execution_count": 89,
      "outputs": []
    },
    {
      "cell_type": "markdown",
      "source": [
        "#Пример Модель роста Солоу"
      ],
      "metadata": {
        "id": "M92bchN9MGhe"
      }
    },
    {
      "cell_type": "code",
      "source": [
        "class Solow:\n",
        "    #Реализует модель роста Солоу с правилом обновления\n",
        "\n",
        "    # k_{t+1} = [(s z k^α_t) + (1 - δ)k_t] /(1 + n)\n",
        "\n",
        "    def __init__(self, \n",
        "                 n=0.05, # темпы прироста населения\n",
        "                 s=0.25, # норма сбережений\n",
        "                 δ=0.1, # норма амортизации\n",
        "                 α=0.3, # доля рабочей силы\n",
        "                 z=2.0, # производительность\n",
        "                 k=1.0): # текущий основной капитал\n",
        "        self.n, self.s, self.δ, self.α, self.z = n, s, δ, α, z\n",
        "        self.k = k\n",
        "    def h(self):\n",
        "        print(\" Оценка функции h\")\n",
        "        # Распаковка параметров\n",
        "        #(избавляемся от self для упрощения обозначения)\n",
        "        n, s, δ, α, z = self.n, self.s, self.δ, self.α, self.z\n",
        "        # обновляем на выходе h\n",
        "        return (s * z * self.k**α + (1 - δ) * self.k) / (1 + n)\n",
        "    def update(self):\n",
        "        print(\"Обновляем состояние (основной капитал)\")\n",
        "        self.k = self.h()\n",
        "    def steady_state(self):\n",
        "        print(\" Вычисляем устойчивую стоимость капитала.\")\n",
        "        #(избавляемся от self для упрощения обозначения)\n",
        "        n, s, δ, α, z = self.n, self.s, self.δ, self.α, self.z\n",
        "        # Вычисление и возврат устойчивого состояния\n",
        "        return ((s * z) / (n + δ))**(1 / (1 - α))\n",
        "    def generate_sequence(self, t):\n",
        "        print(\"Генерация и возврат временного ряда\")\n",
        "        path = []\n",
        "        for i in range(t):\n",
        "            path.append(self.k)\n",
        "            self.update()\n",
        "        return path"
      ],
      "metadata": {
        "id": "yQPBsdTwMIDa"
      },
      "execution_count": 90,
      "outputs": []
    },
    {
      "cell_type": "code",
      "source": [
        "import matplotlib.pyplot as plt\n",
        "\n",
        "s1 = Solow()\n",
        "s2 = Solow(k=8.0)\n",
        "T = 60\n",
        "fig, ax = plt.subplots(figsize=(9, 6))\n",
        "\n",
        "# Построение графика общей установившейся стоимости капитала\n",
        "ax.plot([s1.steady_state()]*T, 'k-', label='устойчивое состояние')\n",
        "\n",
        "# Построение временных рядов для каждой экономики\n",
        "for s in s1, s2:\n",
        "    lb = f' основной ряд от первоначального состояния {s.k}'\n",
        "    ax.plot(s.generate_sequence(T), 'o-', lw=2, alpha=0.6, label=lb)\n",
        "ax.set_xlabel('t', fontsize=14)\n",
        "ax.set_ylabel('kt', fontsize=14)\n",
        "ax.legend()\n",
        "plt.show()"
      ],
      "metadata": {
        "colab": {
          "base_uri": "https://localhost:8080/",
          "height": 1000
        },
        "id": "7FKy8rYnMO4o",
        "outputId": "66e0036e-c57a-49d5-9fa3-7db561fccb41"
      },
      "execution_count": 92,
      "outputs": [
        {
          "output_type": "stream",
          "name": "stdout",
          "text": [
            " Вычисляем устойчивую стоимость капитала.\n",
            "Генерация и возврат временного ряда\n",
            "Обновляем состояние (основной капитал)\n",
            " Оценка функции h\n",
            "Обновляем состояние (основной капитал)\n",
            " Оценка функции h\n",
            "Обновляем состояние (основной капитал)\n",
            " Оценка функции h\n",
            "Обновляем состояние (основной капитал)\n",
            " Оценка функции h\n",
            "Обновляем состояние (основной капитал)\n",
            " Оценка функции h\n",
            "Обновляем состояние (основной капитал)\n",
            " Оценка функции h\n",
            "Обновляем состояние (основной капитал)\n",
            " Оценка функции h\n",
            "Обновляем состояние (основной капитал)\n",
            " Оценка функции h\n",
            "Обновляем состояние (основной капитал)\n",
            " Оценка функции h\n",
            "Обновляем состояние (основной капитал)\n",
            " Оценка функции h\n",
            "Обновляем состояние (основной капитал)\n",
            " Оценка функции h\n",
            "Обновляем состояние (основной капитал)\n",
            " Оценка функции h\n",
            "Обновляем состояние (основной капитал)\n",
            " Оценка функции h\n",
            "Обновляем состояние (основной капитал)\n",
            " Оценка функции h\n",
            "Обновляем состояние (основной капитал)\n",
            " Оценка функции h\n",
            "Обновляем состояние (основной капитал)\n",
            " Оценка функции h\n",
            "Обновляем состояние (основной капитал)\n",
            " Оценка функции h\n",
            "Обновляем состояние (основной капитал)\n",
            " Оценка функции h\n",
            "Обновляем состояние (основной капитал)\n",
            " Оценка функции h\n",
            "Обновляем состояние (основной капитал)\n",
            " Оценка функции h\n",
            "Обновляем состояние (основной капитал)\n",
            " Оценка функции h\n",
            "Обновляем состояние (основной капитал)\n",
            " Оценка функции h\n",
            "Обновляем состояние (основной капитал)\n",
            " Оценка функции h\n",
            "Обновляем состояние (основной капитал)\n",
            " Оценка функции h\n",
            "Обновляем состояние (основной капитал)\n",
            " Оценка функции h\n",
            "Обновляем состояние (основной капитал)\n",
            " Оценка функции h\n",
            "Обновляем состояние (основной капитал)\n",
            " Оценка функции h\n",
            "Обновляем состояние (основной капитал)\n",
            " Оценка функции h\n",
            "Обновляем состояние (основной капитал)\n",
            " Оценка функции h\n",
            "Обновляем состояние (основной капитал)\n",
            " Оценка функции h\n",
            "Обновляем состояние (основной капитал)\n",
            " Оценка функции h\n",
            "Обновляем состояние (основной капитал)\n",
            " Оценка функции h\n",
            "Обновляем состояние (основной капитал)\n",
            " Оценка функции h\n",
            "Обновляем состояние (основной капитал)\n",
            " Оценка функции h\n",
            "Обновляем состояние (основной капитал)\n",
            " Оценка функции h\n",
            "Обновляем состояние (основной капитал)\n",
            " Оценка функции h\n",
            "Обновляем состояние (основной капитал)\n",
            " Оценка функции h\n",
            "Обновляем состояние (основной капитал)\n",
            " Оценка функции h\n",
            "Обновляем состояние (основной капитал)\n",
            " Оценка функции h\n",
            "Обновляем состояние (основной капитал)\n",
            " Оценка функции h\n",
            "Обновляем состояние (основной капитал)\n",
            " Оценка функции h\n",
            "Обновляем состояние (основной капитал)\n",
            " Оценка функции h\n",
            "Обновляем состояние (основной капитал)\n",
            " Оценка функции h\n",
            "Обновляем состояние (основной капитал)\n",
            " Оценка функции h\n",
            "Обновляем состояние (основной капитал)\n",
            " Оценка функции h\n",
            "Обновляем состояние (основной капитал)\n",
            " Оценка функции h\n",
            "Обновляем состояние (основной капитал)\n",
            " Оценка функции h\n",
            "Обновляем состояние (основной капитал)\n",
            " Оценка функции h\n",
            "Обновляем состояние (основной капитал)\n",
            " Оценка функции h\n",
            "Обновляем состояние (основной капитал)\n",
            " Оценка функции h\n",
            "Обновляем состояние (основной капитал)\n",
            " Оценка функции h\n",
            "Обновляем состояние (основной капитал)\n",
            " Оценка функции h\n",
            "Обновляем состояние (основной капитал)\n",
            " Оценка функции h\n",
            "Обновляем состояние (основной капитал)\n",
            " Оценка функции h\n",
            "Обновляем состояние (основной капитал)\n",
            " Оценка функции h\n",
            "Обновляем состояние (основной капитал)\n",
            " Оценка функции h\n",
            "Обновляем состояние (основной капитал)\n",
            " Оценка функции h\n",
            "Обновляем состояние (основной капитал)\n",
            " Оценка функции h\n",
            "Обновляем состояние (основной капитал)\n",
            " Оценка функции h\n",
            "Обновляем состояние (основной капитал)\n",
            " Оценка функции h\n",
            "Генерация и возврат временного ряда\n",
            "Обновляем состояние (основной капитал)\n",
            " Оценка функции h\n",
            "Обновляем состояние (основной капитал)\n",
            " Оценка функции h\n",
            "Обновляем состояние (основной капитал)\n",
            " Оценка функции h\n",
            "Обновляем состояние (основной капитал)\n",
            " Оценка функции h\n",
            "Обновляем состояние (основной капитал)\n",
            " Оценка функции h\n",
            "Обновляем состояние (основной капитал)\n",
            " Оценка функции h\n",
            "Обновляем состояние (основной капитал)\n",
            " Оценка функции h\n",
            "Обновляем состояние (основной капитал)\n",
            " Оценка функции h\n",
            "Обновляем состояние (основной капитал)\n",
            " Оценка функции h\n",
            "Обновляем состояние (основной капитал)\n",
            " Оценка функции h\n",
            "Обновляем состояние (основной капитал)\n",
            " Оценка функции h\n",
            "Обновляем состояние (основной капитал)\n",
            " Оценка функции h\n",
            "Обновляем состояние (основной капитал)\n",
            " Оценка функции h\n",
            "Обновляем состояние (основной капитал)\n",
            " Оценка функции h\n",
            "Обновляем состояние (основной капитал)\n",
            " Оценка функции h\n",
            "Обновляем состояние (основной капитал)\n",
            " Оценка функции h\n",
            "Обновляем состояние (основной капитал)\n",
            " Оценка функции h\n",
            "Обновляем состояние (основной капитал)\n",
            " Оценка функции h\n",
            "Обновляем состояние (основной капитал)\n",
            " Оценка функции h\n",
            "Обновляем состояние (основной капитал)\n",
            " Оценка функции h\n",
            "Обновляем состояние (основной капитал)\n",
            " Оценка функции h\n",
            "Обновляем состояние (основной капитал)\n",
            " Оценка функции h\n",
            "Обновляем состояние (основной капитал)\n",
            " Оценка функции h\n",
            "Обновляем состояние (основной капитал)\n",
            " Оценка функции h\n",
            "Обновляем состояние (основной капитал)\n",
            " Оценка функции h\n",
            "Обновляем состояние (основной капитал)\n",
            " Оценка функции h\n",
            "Обновляем состояние (основной капитал)\n",
            " Оценка функции h\n",
            "Обновляем состояние (основной капитал)\n",
            " Оценка функции h\n",
            "Обновляем состояние (основной капитал)\n",
            " Оценка функции h\n",
            "Обновляем состояние (основной капитал)\n",
            " Оценка функции h\n",
            "Обновляем состояние (основной капитал)\n",
            " Оценка функции h\n",
            "Обновляем состояние (основной капитал)\n",
            " Оценка функции h\n",
            "Обновляем состояние (основной капитал)\n",
            " Оценка функции h\n",
            "Обновляем состояние (основной капитал)\n",
            " Оценка функции h\n",
            "Обновляем состояние (основной капитал)\n",
            " Оценка функции h\n",
            "Обновляем состояние (основной капитал)\n",
            " Оценка функции h\n",
            "Обновляем состояние (основной капитал)\n",
            " Оценка функции h\n",
            "Обновляем состояние (основной капитал)\n",
            " Оценка функции h\n",
            "Обновляем состояние (основной капитал)\n",
            " Оценка функции h\n",
            "Обновляем состояние (основной капитал)\n",
            " Оценка функции h\n",
            "Обновляем состояние (основной капитал)\n",
            " Оценка функции h\n",
            "Обновляем состояние (основной капитал)\n",
            " Оценка функции h\n",
            "Обновляем состояние (основной капитал)\n",
            " Оценка функции h\n",
            "Обновляем состояние (основной капитал)\n",
            " Оценка функции h\n",
            "Обновляем состояние (основной капитал)\n",
            " Оценка функции h\n",
            "Обновляем состояние (основной капитал)\n",
            " Оценка функции h\n",
            "Обновляем состояние (основной капитал)\n",
            " Оценка функции h\n",
            "Обновляем состояние (основной капитал)\n",
            " Оценка функции h\n",
            "Обновляем состояние (основной капитал)\n",
            " Оценка функции h\n",
            "Обновляем состояние (основной капитал)\n",
            " Оценка функции h\n",
            "Обновляем состояние (основной капитал)\n",
            " Оценка функции h\n",
            "Обновляем состояние (основной капитал)\n",
            " Оценка функции h\n",
            "Обновляем состояние (основной капитал)\n",
            " Оценка функции h\n",
            "Обновляем состояние (основной капитал)\n",
            " Оценка функции h\n",
            "Обновляем состояние (основной капитал)\n",
            " Оценка функции h\n",
            "Обновляем состояние (основной капитал)\n",
            " Оценка функции h\n",
            "Обновляем состояние (основной капитал)\n",
            " Оценка функции h\n",
            "Обновляем состояние (основной капитал)\n",
            " Оценка функции h\n",
            "Обновляем состояние (основной капитал)\n",
            " Оценка функции h\n",
            "Обновляем состояние (основной капитал)\n",
            " Оценка функции h\n"
          ]
        },
        {
          "output_type": "display_data",
          "data": {
            "text/plain": [
              "<Figure size 648x432 with 1 Axes>"
            ],
            "image/png": "[encoded data removed]"
          },
          "metadata": {
            "needs_background": "light"
          }
        }
      ]
    },
    {
      "cell_type": "markdown",
      "source": [
        "#Пример Класс Market"
      ],
      "metadata": {
        "id": "RbelcIE9Me90"
      }
    },
    {
      "cell_type": "code",
      "source": [
        "from scipy.integrate import quad\n",
        "class Market:\n",
        "    def __init__(self, ad, bd, az, bz, tax):\n",
        "        \"\"\"\n",
        "        Настройка параметров рынка. Все параметры\n",
        "        являются скалярами.\n",
        "        \"\"\"\n",
        "        self.ad, self.bd, self.az, self.bz, self.tax = ad, bd, az, bz, tax\n",
        "        if ad < az:\n",
        "            raise ValueError(' Недостаточный спрос.')\n",
        "    def price(self):\n",
        "        \" Расчет равновесной цены\"\n",
        "        return (self.ad - self.az + self.bz * self.tax)/ (self.bd + self.bz)\n",
        "    def quantity(self):\n",
        "        \" Расчет равновесного количества\"\n",
        "        return self.ad - self.bd * self.price()\n",
        "\n",
        "    def consumer_surp(self):\n",
        "        \" Расчет потребительского излишка \"\n",
        "        # == Расчет площадь при обнаружении функции потребления == #\n",
        "        integrand = lambda x: (self.ad / self.bd) - (1 / self.bd) * x\n",
        "        area, error = quad(integrand, 0, self.quantity())\n",
        "        return area - self.price() * self.quantity()\n",
        "    def producer_surp(self):\n",
        "        \" Расчет излишка у производителя \"\n",
        "        # == Расчет площади над обратной кривой предложения, исключая налог == #\n",
        "        integrand = lambda x: - (self.az / self.bz) + (1 / self.bz) * x\n",
        "        area, error = quad(integrand, 0, self.quantity())\n",
        "        return (self.price() - self.tax) * self.quantity() - area\n",
        "    def taxrev(self):\n",
        "        \" Расчет налоговых поступлений \"\n",
        "        return self.tax * self.quantity()\n",
        "    def inverse_demand(self, x):\n",
        "        \" Расчет обратного спроса \"\n",
        "        return self.ad / self.bd - (1 / self.bd)* x\n",
        "    def inverse_supply(self, x):\n",
        "        \" Расчет обратной кривой предложения \"\n",
        "        return - (self.az / self.bz) + (1 / self.bz) * x + self.tax\n",
        "    def inverse_supply_no_tax(self, x):\n",
        "        \"Расчет обратной кривой предложения без налога \"\n",
        "        return -(self.az / self.bz) + (1 / self.bz) * x \n",
        "     "
      ],
      "metadata": {
        "id": "uzXbxzWHMgKH"
      },
      "execution_count": 94,
      "outputs": []
    },
    {
      "cell_type": "code",
      "source": [
        "baseline_params = 15, .5, -2, .5, 3\n",
        "m = Market(*baseline_params)\n",
        "print(\"равновесная цена = \", m.price())"
      ],
      "metadata": {
        "colab": {
          "base_uri": "https://localhost:8080/"
        },
        "id": "pcClEXKlMoFK",
        "outputId": "bd7430e1-dd6f-4ff3-a4cf-7ceb714b9b05"
      },
      "execution_count": 95,
      "outputs": [
        {
          "output_type": "stream",
          "name": "stdout",
          "text": [
            "равновесная цена =  18.5\n"
          ]
        }
      ]
    },
    {
      "cell_type": "code",
      "source": [
        "print(\"потребительский излишек = \", m.consumer_surp())"
      ],
      "metadata": {
        "colab": {
          "base_uri": "https://localhost:8080/"
        },
        "id": "tM7_W8yaMsLM",
        "outputId": "5f1a1c8d-f67d-4dba-8de5-ddce226a7cf4"
      },
      "execution_count": 96,
      "outputs": [
        {
          "output_type": "stream",
          "name": "stdout",
          "text": [
            "потребительский излишек =  33.0625\n"
          ]
        }
      ]
    },
    {
      "cell_type": "code",
      "source": [
        "import numpy as np\n",
        "# Исходные значения ad, bd, az, bz, tax\n",
        "baseline_params = 15, .5, -2, .5, 3\n",
        "m = Market(*baseline_params)\n",
        "q_max = m.quantity() * 2\n",
        "q_grid = np.linspace(0.0, q_max, 100)\n",
        "pd = m.inverse_demand(q_grid)\n",
        "ps = m.inverse_supply(q_grid)\n",
        "psno = m.inverse_supply_no_tax(q_grid)\n",
        "fig, ax = plt.subplots()\n",
        "ax.plot(q_grid, pd, lw=2, alpha=0.6, label='спрос')\n",
        "ax.plot(q_grid, ps, lw=2, alpha=0.6, label='предложение')\n",
        "ax.plot(q_grid, psno, '--k', lw=2, alpha=0.6, label='предложение без налогов')\n",
        "ax.set_xlabel('количество', fontsize=14)\n",
        "ax.set_xlim(0, q_max)\n",
        "ax.set_ylabel('цена', fontsize=14)\n",
        "ax.legend(loc='lower right', frameon=False, fontsize=14)\n",
        "plt.show()"
      ],
      "metadata": {
        "colab": {
          "base_uri": "https://localhost:8080/",
          "height": 283
        },
        "id": "EySaOXU_MvjQ",
        "outputId": "32e7c7a5-65eb-4d72-fb54-fc3b363c5b1c"
      },
      "execution_count": 97,
      "outputs": [
        {
          "output_type": "display_data",
          "data": {
            "text/plain": [
              "<Figure size 432x288 with 1 Axes>"
            ],
            "image/png": "[encoded data removed]"
          },
          "metadata": {
            "needs_background": "light"
          }
        }
      ]
    },
    {
      "cell_type": "code",
      "source": [
        "def deadw(m):\n",
        "    \" Вычисление безвозвратные потери для рынка m.\"\n",
        "    # == Создание аналогичный рынок без налогов == #\n",
        "    m_no_tax = Market(m.ad, m.bd, m.az, m.bz, 0)\n",
        "    # == Сравнение излишков разницы в доходности == #\n",
        "    surp1 = m_no_tax.consumer_surp() + m_no_tax.producer_surp()\n",
        "    surp2 = m.consumer_surp() + m.producer_surp() + m.taxrev()\n",
        "    return surp1 - surp2 \n",
        "\n",
        "baseline_params = 15, .5, -2, .5, 3\n",
        "m = Market(*baseline_params)\n",
        "deadw(m) # Безвозвратные потери"
      ],
      "metadata": {
        "colab": {
          "base_uri": "https://localhost:8080/"
        },
        "id": "riNcqa_MMzYn",
        "outputId": "4730015c-702f-4038-b241-180bc587903c"
      },
      "execution_count": 98,
      "outputs": [
        {
          "output_type": "execute_result",
          "data": {
            "text/plain": [
              "1.125"
            ]
          },
          "metadata": {},
          "execution_count": 98
        }
      ]
    },
    {
      "cell_type": "markdown",
      "source": [
        "#Проектирование «сверху вниз»"
      ],
      "metadata": {
        "id": "vy7NjaKKNX3T"
      }
    },
    {
      "cell_type": "code",
      "source": [
        "def main():\n",
        "    salary = calculate_salary()\n",
        "    print(salary)\n",
        "def calculate_salary():\n",
        "    \"\"\"\n",
        "    Функция считает зарплату сотрудника ДПС, считывая исходные\n",
        "    данные с клавиатуры. \n",
        "    :returns: Зарплата сотрудника\n",
        "    .. todo:: Реализовать функцию\n",
        "\n",
        "    \"\"\"\n",
        "    pass\n",
        "if __name__ == \"__main__\":\n",
        "    main() "
      ],
      "metadata": {
        "colab": {
          "base_uri": "https://localhost:8080/"
        },
        "id": "6nTvfSVvNZG3",
        "outputId": "845ef1ae-3364-4fb3-8c22-c4e7a73d71c0"
      },
      "execution_count": 104,
      "outputs": [
        {
          "output_type": "stream",
          "name": "stdout",
          "text": [
            "None\n"
          ]
        }
      ]
    },
    {
      "cell_type": "code",
      "source": [
        "def main():\n",
        "    salary = calculate_salary()\n",
        "    print(salary)\n",
        "def calculate_salary():\n",
        "    \n",
        "    # Считает зарплату сотрудника ДПС,\n",
        "    # считывая исходные данные с клавиатуры.\n",
        "    # Зарплата сотрудника\n",
        "\n",
        "    sum_of_fines = 0\n",
        "    speed_of_car, number_of_car = read_data()\n",
        "    while not detect_chief(number_of_car):\n",
        "        if speed_of_car > 60:\n",
        "            sum_of_fines += calculate_fine(number_of_car)\n",
        "            speed_of_car, number_of_car = read_data()\n",
        "    return sum_of_fines\n",
        "\n",
        "def read_data():\n",
        "\n",
        "    # Считывает следущую строку данных.\n",
        "    # tuple(int, str) - скорость, номер машины\n",
        "\n",
        "    data = input().split()\n",
        "    return int(data[0]), data[1]\n",
        "\n",
        "def detect_chief(number_of_car):\n",
        "    # Проверяет, принадлежит ли данный номер начальнику.\n",
        "    # number_of_car: номер автомобиля\n",
        "    # True, если номер принадлежит начальнику, иначе\n",
        "    # False\n",
        "    return number_of_car == \"A999AA\"\n",
        "\n",
        "def calculate_fine(number_of_car):\n",
        "    # Считает штраф для автомобиля с конкретным номером.\n",
        "    # number_of_car: номер автомобиля\n",
        "    # Целое число, размер штрафа\n",
        "    if is_super_number(number_of_car):\n",
        "        return 1000\n",
        "    elif is_good_number(number_of_car):\n",
        "        return 500\n",
        "    else:\n",
        "        return 100\n",
        "\n",
        "def is_super_number(number_of_car):\n",
        "\n",
        "    # Проверяет, является ли номер «золотым» (совпадение трёх цифр)\n",
        "    # number_of_car: номер автомобиля\n",
        "    # True, если номер «золотой», иначе False\n",
        "    return number_of_car[1] == number_of_car[2] == number_of_car[3]\n",
        "\n",
        "def is_good_number(number_of_car):\n",
        "\n",
        "    # Проверяет, является ли номер «серебряный» (совпадение двух цифр)\n",
        "    # number_of_car: номер автомобиля\n",
        "    # True, если номер «серебряный», иначе False\n",
        "\n",
        "    return number_of_car[1] == number_of_car[2] or \\\n",
        "            number_of_car[1] == number_of_car[3] or \\\n",
        "            number_of_car[2] == number_of_car[3]\n",
        "\n",
        "if __name__ == \"__main__\":\n",
        "    main()"
      ],
      "metadata": {
        "id": "VQJnzDvCPhJZ"
      },
      "execution_count": null,
      "outputs": []
    }
  ]
}